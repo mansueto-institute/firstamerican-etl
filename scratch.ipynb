{
 "cells": [
  {
   "cell_type": "code",
   "execution_count": 2,
   "metadata": {},
   "outputs": [
    {
     "name": "stdout",
     "output_type": "stream",
     "text": [
      "The autoreload extension is already loaded. To reload it, use:\n",
      "  %reload_ext autoreload\n"
     ]
    }
   ],
   "source": [
    "#set up autoreload\n",
    "%load_ext autoreload\n",
    "%autoreload 2\n",
    "\n",
    "import polars as pl\n",
    "from pathlib import Path\n",
    "\n",
    "import importlib  \n",
    "fa_etl = importlib.import_module(\"fa-etl\")"
   ]
  },
  {
   "cell_type": "code",
   "execution_count": 69,
   "metadata": {},
   "outputs": [],
   "source": [
    "county = \"36061\"\n",
    "path_to_dir = \"/Users/claireboyd/internships/mansueto/firstamerican-etl/\"\n",
    "output_filepath_ranked = path_to_dir+f\"dev/{county}/staging/ranked_ValHist{county}.parquet\"\n",
    "\n",
    "taxhist = pl.read_parquet(path_to_dir+f\"dev/{county}/staging/TaxHist{county}.parquet\")\n",
    "valhist = pl.read_parquet(path_to_dir+f\"dev/{county}/staging/ValHist{county}.parquet\")\n",
    "annual = pl.read_parquet(path_to_dir+f\"dev/{county}/staging/Prop{county}.parquet\")\n",
    "sales_ranked = pl.read_parquet(path_to_dir+f\"dev/{county}/staging/ranked_Deed{county}.parquet\")\n",
    "sales = pl.read_parquet(path_to_dir+f\"dev/{county}/staging/Deed{county}.parquet\")\n",
    "\n",
    "appr = pl.scan_parquet(path_to_dir+f\"dev/{county}/staging/appr.parquet\", low_memory=True)\n",
    "assd = pl.scan_parquet(path_to_dir+f\"dev/{county}/staging/assd.parquet\", low_memory=True)\n",
    "market = pl.scan_parquet(path_to_dir+f\"dev/{county}/staging/market.parquet\", low_memory=True)"
   ]
  },
  {
   "cell_type": "code",
   "execution_count": 70,
   "metadata": {},
   "outputs": [],
   "source": [
    "assd.join(\n",
    "    other=market,\n",
    "    how=\"left\",\n",
    "    on=['PropertyID', 'Year'],\n",
    ").sink_parquet(Path(output_filepath_ranked), compression=\"snappy\")\n"
   ]
  },
  {
   "cell_type": "code",
   "execution_count": 71,
   "metadata": {},
   "outputs": [],
   "source": [
    "valhist = pl.read_parquet(path_to_dir+f\"dev/{county}/staging/ranked_ValHist{county}.parquet\")"
   ]
  },
  {
   "cell_type": "code",
   "execution_count": 72,
   "metadata": {},
   "outputs": [
    {
     "data": {
      "text/plain": [
       "(3566623, 4)"
      ]
     },
     "execution_count": 72,
     "metadata": {},
     "output_type": "execute_result"
    }
   ],
   "source": [
    "valhist.shape"
   ]
  },
  {
   "cell_type": "code",
   "execution_count": 43,
   "metadata": {},
   "outputs": [],
   "source": [
    "lf = pl.LazyFrame(\n",
    "    {\n",
    "        \"a\": [1, 2, 3, 4],\n",
    "        \"b\": [0.5, 4, 10, 13],\n",
    "        \"c\": [True, True, False, True],\n",
    "    }\n",
    ")"
   ]
  },
  {
   "cell_type": "code",
   "execution_count": 56,
   "metadata": {},
   "outputs": [
    {
     "data": {
      "text/html": [
       "<div><style>\n",
       ".dataframe > thead > tr,\n",
       ".dataframe > tbody > tr {\n",
       "  text-align: right;\n",
       "  white-space: pre-wrap;\n",
       "}\n",
       "</style>\n",
       "<small>shape: (4, 4)</small><table border=\"1\" class=\"dataframe\"><thead><tr><th>a</th><th>b</th><th>c</th><th>Appr</th></tr><tr><td>i64</td><td>f64</td><td>bool</td><td>null</td></tr></thead><tbody><tr><td>1</td><td>0.5</td><td>true</td><td>null</td></tr><tr><td>2</td><td>4.0</td><td>true</td><td>null</td></tr><tr><td>3</td><td>10.0</td><td>false</td><td>null</td></tr><tr><td>4</td><td>13.0</td><td>true</td><td>null</td></tr></tbody></table></div>"
      ],
      "text/plain": [
       "shape: (4, 4)\n",
       "┌─────┬──────┬───────┬──────┐\n",
       "│ a   ┆ b    ┆ c     ┆ Appr │\n",
       "│ --- ┆ ---  ┆ ---   ┆ ---  │\n",
       "│ i64 ┆ f64  ┆ bool  ┆ null │\n",
       "╞═════╪══════╪═══════╪══════╡\n",
       "│ 1   ┆ 0.5  ┆ true  ┆ null │\n",
       "│ 2   ┆ 4.0  ┆ true  ┆ null │\n",
       "│ 3   ┆ 10.0 ┆ false ┆ null │\n",
       "│ 4   ┆ 13.0 ┆ true  ┆ null │\n",
       "└─────┴──────┴───────┴──────┘"
      ]
     },
     "execution_count": 56,
     "metadata": {},
     "output_type": "execute_result"
    }
   ],
   "source": [
    "lf.with_columns([\n",
    "    pl.when(True).then(None).alias(\"ApprTotalValue\")\n",
    "]).collect()"
   ]
  },
  {
   "cell_type": "code",
   "execution_count": 12,
   "metadata": {},
   "outputs": [
    {
     "data": {
      "text/html": [
       "<div><style>\n",
       ".dataframe > thead > tr,\n",
       ".dataframe > tbody > tr {\n",
       "  text-align: right;\n",
       "  white-space: pre-wrap;\n",
       "}\n",
       "</style>\n",
       "<small>shape: (0, 16)</small><table border=\"1\" class=\"dataframe\"><thead><tr><th>PropertyID</th><th>SaleAmt</th><th>RecordingDate</th><th>FIPS</th><th>FATimeStamp</th><th>FATransactionID</th><th>TransactionType</th><th>SaleDate</th><th>RecordingYearSlice</th><th>PropertyID_str</th><th>FATransactionID_1</th><th>RecordingYear</th><th>SaleYear</th><th>FATimeStampYear</th><th>SaleFlag</th><th>PropIDFlag</th></tr><tr><td>i64</td><td>i64</td><td>date</td><td>str</td><td>date</td><td>i64</td><td>str</td><td>date</td><td>str</td><td>str</td><td>str</td><td>i64</td><td>i32</td><td>i32</td><td>i32</td><td>i32</td></tr></thead><tbody></tbody></table></div>"
      ],
      "text/plain": [
       "shape: (0, 16)\n",
       "┌────────────┬─────────┬──────────────┬──────┬───┬──────────┬──────────────┬──────────┬────────────┐\n",
       "│ PropertyID ┆ SaleAmt ┆ RecordingDat ┆ FIPS ┆ … ┆ SaleYear ┆ FATimeStampY ┆ SaleFlag ┆ PropIDFlag │\n",
       "│ ---        ┆ ---     ┆ e            ┆ ---  ┆   ┆ ---      ┆ ear          ┆ ---      ┆ ---        │\n",
       "│ i64        ┆ i64     ┆ ---          ┆ str  ┆   ┆ i32      ┆ ---          ┆ i32      ┆ i32        │\n",
       "│            ┆         ┆ date         ┆      ┆   ┆          ┆ i32          ┆          ┆            │\n",
       "╞════════════╪═════════╪══════════════╪══════╪═══╪══════════╪══════════════╪══════════╪════════════╡\n",
       "└────────────┴─────────┴──────────────┴──────┴───┴──────────┴──────────────┴──────────┴────────────┘"
      ]
     },
     "execution_count": 12,
     "metadata": {},
     "output_type": "execute_result"
    }
   ],
   "source": [
    "sales.filter(\n",
    "    pl.col(\"PropIDFlag\") == 1\n",
    ")"
   ]
  },
  {
   "cell_type": "code",
   "execution_count": 12,
   "metadata": {},
   "outputs": [
    {
     "data": {
      "text/html": [
       "<div><style>\n",
       ".dataframe > thead > tr > th,\n",
       ".dataframe > tbody > tr > td {\n",
       "  text-align: right;\n",
       "  white-space: pre-wrap;\n",
       "}\n",
       "</style>\n",
       "<small>shape: (44_004, 8)</small><table border=\"1\" class=\"dataframe\"><thead><tr><th>PropertyID</th><th>Year</th><th>Value</th><th>AssessmentUsed</th><th>SaleAmt</th><th>TaxAmt</th><th>TaxAmtAdjusted</th><th>ApproxTaxRate</th></tr><tr><td>i64</td><td>i64</td><td>i64</td><td>str</td><td>i64</td><td>i64</td><td>f64</td><td>f64</td></tr></thead><tbody><tr><td>91847870</td><td>2018</td><td>117677</td><td>&quot;Assd&quot;</td><td>1580000</td><td>1310424</td><td>13104.24</td><td>11.13577</td></tr><tr><td>91849008</td><td>2018</td><td>247162</td><td>&quot;Assd&quot;</td><td>4400000</td><td>3114052</td><td>31140.52</td><td>12.599235</td></tr><tr><td>91848046</td><td>2018</td><td>71155</td><td>&quot;Assd&quot;</td><td>712775</td><td>773352</td><td>7733.52</td><td>10.868555</td></tr><tr><td>91846549</td><td>2018</td><td>149310</td><td>&quot;Assd&quot;</td><td>2475000</td><td>1527372</td><td>15273.72</td><td>10.229536</td></tr><tr><td>91847537</td><td>2018</td><td>128574</td><td>&quot;Assd&quot;</td><td>1625000</td><td>1496148</td><td>14961.48</td><td>11.636474</td></tr><tr><td>91848333</td><td>2018</td><td>356895</td><td>&quot;Assd&quot;</td><td>7400000</td><td>3958776</td><td>39587.76</td><td>11.092271</td></tr><tr><td>91846649</td><td>2018</td><td>219589</td><td>&quot;Assd&quot;</td><td>3100000</td><td>2518932</td><td>25189.32</td><td>11.471121</td></tr><tr><td>91847215</td><td>2018</td><td>299300</td><td>&quot;Assd&quot;</td><td>2825000</td><td>3327036</td><td>33270.36</td><td>11.116057</td></tr><tr><td>91846134</td><td>2022</td><td>718067</td><td>&quot;Assd&quot;</td><td>12500000</td><td>8808528</td><td>88085.28</td><td>12.267</td></tr><tr><td>91847289</td><td>2018</td><td>143322</td><td>&quot;Assd&quot;</td><td>2840000</td><td>1723200</td><td>17232.0</td><td>12.023276</td></tr><tr><td>91848235</td><td>2018</td><td>98891</td><td>&quot;Assd&quot;</td><td>840000</td><td>1074844</td><td>10748.44</td><td>10.868977</td></tr><tr><td>91847234</td><td>2018</td><td>97929</td><td>&quot;Assd&quot;</td><td>2000000</td><td>1138124</td><td>11381.24</td><td>11.62193</td></tr><tr><td>&hellip;</td><td>&hellip;</td><td>&hellip;</td><td>&hellip;</td><td>&hellip;</td><td>&hellip;</td><td>&hellip;</td><td>&hellip;</td></tr><tr><td>91951526</td><td>2020</td><td>43461</td><td>&quot;Assd&quot;</td><td>280000</td><td>null</td><td>null</td><td>null</td></tr><tr><td>91950328</td><td>2020</td><td>791550</td><td>&quot;Assd&quot;</td><td>12000000</td><td>null</td><td>null</td><td>null</td></tr><tr><td>91951497</td><td>2023</td><td>388800</td><td>&quot;Assd&quot;</td><td>2613000</td><td>4860778</td><td>48607.78</td><td>12.502001</td></tr><tr><td>91951494</td><td>2023</td><td>423000</td><td>&quot;Assd&quot;</td><td>2321000</td><td>5288346</td><td>52883.46</td><td>12.502</td></tr><tr><td>91951499</td><td>2023</td><td>376200</td><td>&quot;Assd&quot;</td><td>2566000</td><td>4703252</td><td>47032.52</td><td>12.501999</td></tr><tr><td>91951505</td><td>2023</td><td>418950</td><td>&quot;Assd&quot;</td><td>1942000</td><td>5237713</td><td>52377.13</td><td>12.502</td></tr><tr><td>91951508</td><td>2023</td><td>418950</td><td>&quot;Assd&quot;</td><td>2795000</td><td>5237713</td><td>52377.13</td><td>12.502</td></tr><tr><td>91950049</td><td>2023</td><td>88208</td><td>&quot;Assd&quot;</td><td>580000</td><td>1102776</td><td>11027.76</td><td>12.501995</td></tr><tr><td>91950055</td><td>2023</td><td>90672</td><td>&quot;Assd&quot;</td><td>570000</td><td>1133581</td><td>11335.81</td><td>12.501996</td></tr><tr><td>91949993</td><td>2023</td><td>30010</td><td>&quot;Assd&quot;</td><td>550000</td><td>375185</td><td>3751.85</td><td>12.501999</td></tr><tr><td>91950231</td><td>2023</td><td>30130</td><td>&quot;Assd&quot;</td><td>4601351</td><td>376685</td><td>3766.85</td><td>12.501991</td></tr><tr><td>91951304</td><td>2023</td><td>36494</td><td>&quot;Assd&quot;</td><td>971562</td><td>704863</td><td>7048.63</td><td>19.31449</td></tr></tbody></table></div>"
      ],
      "text/plain": [
       "shape: (44_004, 8)\n",
       "┌────────────┬──────┬────────┬────────────────┬─────────┬─────────┬────────────────┬───────────────┐\n",
       "│ PropertyID ┆ Year ┆ Value  ┆ AssessmentUsed ┆ SaleAmt ┆ TaxAmt  ┆ TaxAmtAdjusted ┆ ApproxTaxRate │\n",
       "│ ---        ┆ ---  ┆ ---    ┆ ---            ┆ ---     ┆ ---     ┆ ---            ┆ ---           │\n",
       "│ i64        ┆ i64  ┆ i64    ┆ str            ┆ i64     ┆ i64     ┆ f64            ┆ f64           │\n",
       "╞════════════╪══════╪════════╪════════════════╪═════════╪═════════╪════════════════╪═══════════════╡\n",
       "│ 91847870   ┆ 2018 ┆ 117677 ┆ Assd           ┆ 1580000 ┆ 1310424 ┆ 13104.24       ┆ 11.13577      │\n",
       "│ 91849008   ┆ 2018 ┆ 247162 ┆ Assd           ┆ 4400000 ┆ 3114052 ┆ 31140.52       ┆ 12.599235     │\n",
       "│ 91848046   ┆ 2018 ┆ 71155  ┆ Assd           ┆ 712775  ┆ 773352  ┆ 7733.52        ┆ 10.868555     │\n",
       "│ 91846549   ┆ 2018 ┆ 149310 ┆ Assd           ┆ 2475000 ┆ 1527372 ┆ 15273.72       ┆ 10.229536     │\n",
       "│ …          ┆ …    ┆ …      ┆ …              ┆ …       ┆ …       ┆ …              ┆ …             │\n",
       "│ 91950055   ┆ 2023 ┆ 90672  ┆ Assd           ┆ 570000  ┆ 1133581 ┆ 11335.81       ┆ 12.501996     │\n",
       "│ 91949993   ┆ 2023 ┆ 30010  ┆ Assd           ┆ 550000  ┆ 375185  ┆ 3751.85        ┆ 12.501999     │\n",
       "│ 91950231   ┆ 2023 ┆ 30130  ┆ Assd           ┆ 4601351 ┆ 376685  ┆ 3766.85        ┆ 12.501991     │\n",
       "│ 91951304   ┆ 2023 ┆ 36494  ┆ Assd           ┆ 971562  ┆ 704863  ┆ 7048.63        ┆ 19.31449      │\n",
       "└────────────┴──────┴────────┴────────────────┴─────────┴─────────┴────────────────┴───────────────┘"
      ]
     },
     "execution_count": 12,
     "metadata": {},
     "output_type": "execute_result"
    }
   ],
   "source": [
    "merged.filter([\n",
    "    pl.col(\"SaleAmt\").is_not_null(),\n",
    "    pl.col(\"Year\") > 2017\n",
    "]).select(\n",
    "    ['PropertyID','Year','Value','AssessmentUsed','SaleAmt', 'TaxAmt', 'TaxAmtAdjusted']\n",
    ").with_columns([\n",
    "    (pl.col('TaxAmt')/pl.col('Value')).alias(\"ApproxTaxRate\")\n",
    "])"
   ]
  }
 ],
 "metadata": {
  "kernelspec": {
   "display_name": "Python 3",
   "language": "python",
   "name": "python3"
  },
  "language_info": {
   "codemirror_mode": {
    "name": "ipython",
    "version": 3
   },
   "file_extension": ".py",
   "mimetype": "text/x-python",
   "name": "python",
   "nbconvert_exporter": "python",
   "pygments_lexer": "ipython3",
   "version": "3.11.5"
  },
  "orig_nbformat": 4
 },
 "nbformat": 4,
 "nbformat_minor": 2
}
