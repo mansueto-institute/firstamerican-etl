{
 "cells": [
  {
   "cell_type": "code",
   "execution_count": 150,
   "metadata": {},
   "outputs": [
    {
     "name": "stdout",
     "output_type": "stream",
     "text": [
      "The autoreload extension is already loaded. To reload it, use:\n",
      "  %reload_ext autoreload\n"
     ]
    }
   ],
   "source": [
    "#set up autoreload\n",
    "%load_ext autoreload\n",
    "%autoreload 2\n",
    "\n",
    "import polars as pl\n",
    "from pathlib import Path\n",
    "import pyarrow\n",
    "\n",
    "import importlib  \n",
    "fa_etl = importlib.import_module(\"fa-etl\")"
   ]
  },
  {
   "cell_type": "code",
   "execution_count": 161,
   "metadata": {},
   "outputs": [],
   "source": [
    "county = \"48203\"\n",
    "\n",
    "path_to_dir = \"/Users/claireboyd/internships/mansueto/firstamerican-etl/\"\n",
    "# taxhist = pl.scan_parquet(path_to_dir+f\"dev/{county}/staging/TaxHist{county}.parquet\")\n",
    "# valhist = pl.scan_parquet(path_to_dir+f\"dev/{county}/staging/ValHist{county}.parquet\")\n",
    "# annual = pl.scan_parquet(path_to_dir+f\"dev/{county}/staging/Prop{county}.parquet\")\n",
    "# sales = pl.scan_parquet(path_to_dir+f\"dev/{county}/staging/ranked_Deed{county}.parquet\")\n",
    "merged = pl.read_parquet(path_to_dir+f\"dev/{county}/unified/merged.parquet\")"
   ]
  },
  {
   "cell_type": "code",
   "execution_count": 162,
   "metadata": {},
   "outputs": [
    {
     "data": {
      "text/plain": [
       "(7539, 20)"
      ]
     },
     "execution_count": 162,
     "metadata": {},
     "output_type": "execute_result"
    }
   ],
   "source": [
    "merged.shape"
   ]
  },
  {
   "cell_type": "code",
   "execution_count": 163,
   "metadata": {},
   "outputs": [
    {
     "data": {
      "text/html": [
       "<div><style>\n",
       ".dataframe > thead > tr > th,\n",
       ".dataframe > tbody > tr > td {\n",
       "  text-align: right;\n",
       "  white-space: pre-wrap;\n",
       "}\n",
       "</style>\n",
       "<small>shape: (10, 20)</small><table border=\"1\" class=\"dataframe\"><thead><tr><th>PropertyID</th><th>Year</th><th>Value</th><th>AssessmentUsed</th><th>PropertyClassID</th><th>FATimeStamp</th><th>SitusLatitude</th><th>SitusLongitude</th><th>SitusFullStreetAddress</th><th>SitusCity</th><th>SitusState</th><th>SitusZIP5</th><th>FIPS</th><th>SitusCensusTract</th><th>SitusCensusBlock</th><th>SitusGeoStatusCode</th><th>FIPS_SitusCensusTract</th><th>SaleAmt</th><th>TaxAmt</th><th>TaxAmtAdjusted</th></tr><tr><td>i64</td><td>i64</td><td>i64</td><td>str</td><td>str</td><td>date</td><td>f64</td><td>f64</td><td>str</td><td>str</td><td>str</td><td>str</td><td>str</td><td>str</td><td>str</td><td>str</td><td>str</td><td>i64</td><td>i64</td><td>f64</td></tr></thead><tbody><tr><td>131825321</td><td>2015</td><td>12140</td><td>&quot;Assd&quot;</td><td>&quot;R&quot;</td><td>2024-01-21</td><td>32.536926</td><td>-94.362986</td><td>&quot;501 HENLEY PER…</td><td>&quot;MARSHALL&quot;</td><td>&quot;TX&quot;</td><td>&quot;75670&quot;</td><td>&quot;48203&quot;</td><td>&quot;020501&quot;</td><td>&quot;3004&quot;</td><td>&quot;B&quot;</td><td>&quot;48203_20501&quot;</td><td>20000</td><td>22728</td><td>227.28</td></tr><tr><td>131825378</td><td>2015</td><td>78510</td><td>&quot;Assd&quot;</td><td>&quot;R&quot;</td><td>2024-01-21</td><td>32.550108</td><td>-94.324417</td><td>&quot;3803 REDWOOD T…</td><td>&quot;MARSHALL&quot;</td><td>&quot;TX&quot;</td><td>&quot;75672&quot;</td><td>&quot;48203&quot;</td><td>&quot;020301&quot;</td><td>&quot;3010&quot;</td><td>&quot;B&quot;</td><td>&quot;48203_20301&quot;</td><td>114400</td><td>146983</td><td>1469.83</td></tr><tr><td>131825269</td><td>2018</td><td>128420</td><td>&quot;Assd&quot;</td><td>&quot;R&quot;</td><td>2024-01-21</td><td>32.4687</td><td>-94.660496</td><td>&quot;1208 SAN SALVA…</td><td>&quot;LONGVIEW&quot;</td><td>&quot;TX&quot;</td><td>&quot;75602&quot;</td><td>&quot;48203&quot;</td><td>&quot;020603&quot;</td><td>&quot;1020&quot;</td><td>&quot;B&quot;</td><td>&quot;48203_20603&quot;</td><td>176100</td><td>233698</td><td>2336.98</td></tr><tr><td>131825309</td><td>2016</td><td>198510</td><td>&quot;Assd&quot;</td><td>&quot;R&quot;</td><td>2024-01-21</td><td>32.468629</td><td>-94.659519</td><td>&quot;1214 SAN SALVA…</td><td>&quot;LONGVIEW&quot;</td><td>&quot;TX&quot;</td><td>&quot;75602&quot;</td><td>&quot;48203&quot;</td><td>&quot;020603&quot;</td><td>&quot;1020&quot;</td><td>&quot;B&quot;</td><td>&quot;48203_20603&quot;</td><td>228900</td><td>183317</td><td>1833.17</td></tr><tr><td>131825284</td><td>2018</td><td>115990</td><td>&quot;Assd&quot;</td><td>&quot;R&quot;</td><td>2024-01-21</td><td>32.536153</td><td>-94.362573</td><td>&quot;505 SHIRLEY ST…</td><td>&quot;MARSHALL&quot;</td><td>&quot;TX&quot;</td><td>&quot;75670&quot;</td><td>&quot;48203&quot;</td><td>&quot;020501&quot;</td><td>&quot;3000&quot;</td><td>&quot;B&quot;</td><td>&quot;48203_20501&quot;</td><td>149900</td><td>257725</td><td>2577.25</td></tr><tr><td>131825387</td><td>2018</td><td>339850</td><td>&quot;Assd&quot;</td><td>&quot;R&quot;</td><td>2024-01-21</td><td>32.499089</td><td>-94.574146</td><td>&quot;103 W CEDAR ST…</td><td>&quot;HALLSVILLE&quot;</td><td>&quot;TX&quot;</td><td>&quot;75650&quot;</td><td>&quot;48203&quot;</td><td>&quot;020603&quot;</td><td>&quot;2028&quot;</td><td>&quot;B&quot;</td><td>&quot;48203_20603&quot;</td><td>248900</td><td>750566</td><td>7505.66</td></tr><tr><td>131825407</td><td>2015</td><td>134150</td><td>&quot;Assd&quot;</td><td>&quot;R&quot;</td><td>2024-01-21</td><td>32.46855</td><td>-94.663108</td><td>&quot;1110 SAN SALVA…</td><td>&quot;LONGVIEW&quot;</td><td>&quot;TX&quot;</td><td>&quot;75602&quot;</td><td>&quot;48203&quot;</td><td>&quot;020603&quot;</td><td>&quot;1020&quot;</td><td>&quot;B&quot;</td><td>&quot;48203_20603&quot;</td><td>93800</td><td>20511</td><td>205.11</td></tr><tr><td>131825383</td><td>2015</td><td>69090</td><td>&quot;Assd&quot;</td><td>&quot;R&quot;</td><td>2024-01-21</td><td>32.498966</td><td>-94.576135</td><td>&quot;207 W CEDAR ST…</td><td>&quot;HALLSVILLE&quot;</td><td>&quot;TX&quot;</td><td>&quot;75650&quot;</td><td>&quot;48203&quot;</td><td>&quot;020603&quot;</td><td>&quot;2031&quot;</td><td>&quot;B&quot;</td><td>&quot;48203_20603&quot;</td><td>97800</td><td>112544</td><td>1125.44</td></tr><tr><td>131825306</td><td>2015</td><td>196080</td><td>&quot;Assd&quot;</td><td>&quot;R&quot;</td><td>2024-01-21</td><td>32.468163</td><td>-94.65987</td><td>&quot;1211 CREEKWOOD…</td><td>&quot;LONGVIEW&quot;</td><td>&quot;TX&quot;</td><td>&quot;75602&quot;</td><td>&quot;48203&quot;</td><td>&quot;020603&quot;</td><td>&quot;1020&quot;</td><td>&quot;B&quot;</td><td>&quot;48203_20603&quot;</td><td>243800</td><td>180654</td><td>1806.54</td></tr><tr><td>131825514</td><td>2015</td><td>54110</td><td>&quot;Assd&quot;</td><td>&quot;R&quot;</td><td>2024-01-21</td><td>32.506854</td><td>-94.569607</td><td>&quot;208 PLUM ST&quot;</td><td>&quot;HALLSVILLE&quot;</td><td>&quot;TX&quot;</td><td>&quot;75650&quot;</td><td>&quot;48203&quot;</td><td>&quot;020605&quot;</td><td>&quot;2016&quot;</td><td>&quot;B&quot;</td><td>&quot;48203_20605&quot;</td><td>44500</td><td>88143</td><td>881.43</td></tr></tbody></table></div>"
      ],
      "text/plain": [
       "shape: (10, 20)\n",
       "┌────────────┬──────┬────────┬───────────────┬───┬───────────────┬─────────┬────────┬──────────────┐\n",
       "│ PropertyID ┆ Year ┆ Value  ┆ AssessmentUse ┆ … ┆ FIPS_SitusCen ┆ SaleAmt ┆ TaxAmt ┆ TaxAmtAdjust │\n",
       "│ ---        ┆ ---  ┆ ---    ┆ d             ┆   ┆ susTract      ┆ ---     ┆ ---    ┆ ed           │\n",
       "│ i64        ┆ i64  ┆ i64    ┆ ---           ┆   ┆ ---           ┆ i64     ┆ i64    ┆ ---          │\n",
       "│            ┆      ┆        ┆ str           ┆   ┆ str           ┆         ┆        ┆ f64          │\n",
       "╞════════════╪══════╪════════╪═══════════════╪═══╪═══════════════╪═════════╪════════╪══════════════╡\n",
       "│ 131825321  ┆ 2015 ┆ 12140  ┆ Assd          ┆ … ┆ 48203_20501   ┆ 20000   ┆ 22728  ┆ 227.28       │\n",
       "│ 131825378  ┆ 2015 ┆ 78510  ┆ Assd          ┆ … ┆ 48203_20301   ┆ 114400  ┆ 146983 ┆ 1469.83      │\n",
       "│ 131825269  ┆ 2018 ┆ 128420 ┆ Assd          ┆ … ┆ 48203_20603   ┆ 176100  ┆ 233698 ┆ 2336.98      │\n",
       "│ 131825309  ┆ 2016 ┆ 198510 ┆ Assd          ┆ … ┆ 48203_20603   ┆ 228900  ┆ 183317 ┆ 1833.17      │\n",
       "│ …          ┆ …    ┆ …      ┆ …             ┆ … ┆ …             ┆ …       ┆ …      ┆ …            │\n",
       "│ 131825407  ┆ 2015 ┆ 134150 ┆ Assd          ┆ … ┆ 48203_20603   ┆ 93800   ┆ 20511  ┆ 205.11       │\n",
       "│ 131825383  ┆ 2015 ┆ 69090  ┆ Assd          ┆ … ┆ 48203_20603   ┆ 97800   ┆ 112544 ┆ 1125.44      │\n",
       "│ 131825306  ┆ 2015 ┆ 196080 ┆ Assd          ┆ … ┆ 48203_20603   ┆ 243800  ┆ 180654 ┆ 1806.54      │\n",
       "│ 131825514  ┆ 2015 ┆ 54110  ┆ Assd          ┆ … ┆ 48203_20605   ┆ 44500   ┆ 88143  ┆ 881.43       │\n",
       "└────────────┴──────┴────────┴───────────────┴───┴───────────────┴─────────┴────────┴──────────────┘"
      ]
     },
     "execution_count": 163,
     "metadata": {},
     "output_type": "execute_result"
    }
   ],
   "source": [
    "merged.head(10)"
   ]
  },
  {
   "cell_type": "code",
   "execution_count": 164,
   "metadata": {},
   "outputs": [
    {
     "data": {
      "text/html": [
       "<div><style>\n",
       ".dataframe > thead > tr > th,\n",
       ".dataframe > tbody > tr > td {\n",
       "  text-align: right;\n",
       "  white-space: pre-wrap;\n",
       "}\n",
       "</style>\n",
       "<small>shape: (4_551, 8)</small><table border=\"1\" class=\"dataframe\"><thead><tr><th>PropertyID</th><th>Year</th><th>Value</th><th>AssessmentUsed</th><th>SaleAmt</th><th>TaxAmt</th><th>TaxAmtAdjusted</th><th>ApproxTaxRate</th></tr><tr><td>i64</td><td>i64</td><td>i64</td><td>str</td><td>i64</td><td>i64</td><td>f64</td><td>f64</td></tr></thead><tbody><tr><td>131825269</td><td>2018</td><td>128420</td><td>&quot;Assd&quot;</td><td>176100</td><td>233698</td><td>2336.98</td><td>1.819794</td></tr><tr><td>131825284</td><td>2018</td><td>115990</td><td>&quot;Assd&quot;</td><td>149900</td><td>257725</td><td>2577.25</td><td>2.221959</td></tr><tr><td>131825387</td><td>2018</td><td>339850</td><td>&quot;Assd&quot;</td><td>248900</td><td>750566</td><td>7505.66</td><td>2.208521</td></tr><tr><td>131825382</td><td>2018</td><td>118390</td><td>&quot;Assd&quot;</td><td>103200</td><td>263058</td><td>2630.58</td><td>2.221961</td></tr><tr><td>131825281</td><td>2019</td><td>159440</td><td>&quot;Assd&quot;</td><td>221900</td><td>343905</td><td>3439.05</td><td>2.156956</td></tr><tr><td>131825183</td><td>2019</td><td>29590</td><td>&quot;Assd&quot;</td><td>25000</td><td>63825</td><td>638.25</td><td>2.156979</td></tr><tr><td>131825516</td><td>2019</td><td>60070</td><td>&quot;Assd&quot;</td><td>86500</td><td>74016</td><td>740.16</td><td>1.232162</td></tr><tr><td>131825090</td><td>2019</td><td>107120</td><td>&quot;Assd&quot;</td><td>49000</td><td>153343</td><td>1533.43</td><td>1.431507</td></tr><tr><td>131825397</td><td>2019</td><td>161410</td><td>&quot;Assd&quot;</td><td>182000</td><td>193965</td><td>1939.65</td><td>1.201691</td></tr><tr><td>131825530</td><td>2019</td><td>18230</td><td>&quot;Assd&quot;</td><td>36900</td><td>38712</td><td>387.12</td><td>2.123533</td></tr><tr><td>131825302</td><td>2019</td><td>76890</td><td>&quot;Assd&quot;</td><td>99300</td><td>76164</td><td>761.64</td><td>0.990558</td></tr><tr><td>131825522</td><td>2019</td><td>86380</td><td>&quot;Assd&quot;</td><td>116700</td><td>183434</td><td>1834.34</td><td>2.12357</td></tr><tr><td>&hellip;</td><td>&hellip;</td><td>&hellip;</td><td>&hellip;</td><td>&hellip;</td><td>&hellip;</td><td>&hellip;</td><td>&hellip;</td></tr><tr><td>157484611</td><td>2021</td><td>143040</td><td>&quot;Market&quot;</td><td>215000</td><td>244756</td><td>2447.56</td><td>1.711102</td></tr><tr><td>158634018</td><td>2021</td><td>212680</td><td>&quot;Market&quot;</td><td>343100</td><td>300836</td><td>3008.36</td><td>1.414501</td></tr><tr><td>158633580</td><td>2022</td><td>361810</td><td>&quot;Assd&quot;</td><td>436240</td><td>518429</td><td>5184.29</td><td>1.432876</td></tr><tr><td>158633351</td><td>2021</td><td>230760</td><td>&quot;Assd&quot;</td><td>225000</td><td>476122</td><td>4761.22</td><td>2.063278</td></tr><tr><td>158633915</td><td>2021</td><td>222880</td><td>&quot;Assd&quot;</td><td>282758</td><td>482335</td><td>4823.35</td><td>2.164102</td></tr><tr><td>157484438</td><td>2022</td><td>431780</td><td>&quot;Assd&quot;</td><td>606480</td><td>723397</td><td>7233.97</td><td>1.675383</td></tr><tr><td>158633587</td><td>2022</td><td>360320</td><td>&quot;Assd&quot;</td><td>399000</td><td>552271</td><td>5522.71</td><td>1.532724</td></tr><tr><td>158633803</td><td>2022</td><td>261930</td><td>&quot;Market&quot;</td><td>339416</td><td>265980</td><td>2659.8</td><td>1.015462</td></tr><tr><td>158633809</td><td>2022</td><td>389670</td><td>&quot;Assd&quot;</td><td>231087</td><td>601200</td><td>6012.0</td><td>1.542844</td></tr><tr><td>157484549</td><td>2022</td><td>298210</td><td>&quot;Assd&quot;</td><td>333716</td><td>346898</td><td>3468.98</td><td>1.163267</td></tr><tr><td>158633576</td><td>2018</td><td>286100</td><td>&quot;Assd&quot;</td><td>350300</td><td>627860</td><td>6278.6</td><td>2.194547</td></tr><tr><td>158633991</td><td>2022</td><td>62870</td><td>&quot;Assd&quot;</td><td>625100</td><td>104666</td><td>1046.66</td><td>1.6648</td></tr></tbody></table></div>"
      ],
      "text/plain": [
       "shape: (4_551, 8)\n",
       "┌────────────┬──────┬────────┬────────────────┬─────────┬────────┬────────────────┬───────────────┐\n",
       "│ PropertyID ┆ Year ┆ Value  ┆ AssessmentUsed ┆ SaleAmt ┆ TaxAmt ┆ TaxAmtAdjusted ┆ ApproxTaxRate │\n",
       "│ ---        ┆ ---  ┆ ---    ┆ ---            ┆ ---     ┆ ---    ┆ ---            ┆ ---           │\n",
       "│ i64        ┆ i64  ┆ i64    ┆ str            ┆ i64     ┆ i64    ┆ f64            ┆ f64           │\n",
       "╞════════════╪══════╪════════╪════════════════╪═════════╪════════╪════════════════╪═══════════════╡\n",
       "│ 131825269  ┆ 2018 ┆ 128420 ┆ Assd           ┆ 176100  ┆ 233698 ┆ 2336.98        ┆ 1.819794      │\n",
       "│ 131825284  ┆ 2018 ┆ 115990 ┆ Assd           ┆ 149900  ┆ 257725 ┆ 2577.25        ┆ 2.221959      │\n",
       "│ 131825387  ┆ 2018 ┆ 339850 ┆ Assd           ┆ 248900  ┆ 750566 ┆ 7505.66        ┆ 2.208521      │\n",
       "│ 131825382  ┆ 2018 ┆ 118390 ┆ Assd           ┆ 103200  ┆ 263058 ┆ 2630.58        ┆ 2.221961      │\n",
       "│ …          ┆ …    ┆ …      ┆ …              ┆ …       ┆ …      ┆ …              ┆ …             │\n",
       "│ 158633809  ┆ 2022 ┆ 389670 ┆ Assd           ┆ 231087  ┆ 601200 ┆ 6012.0         ┆ 1.542844      │\n",
       "│ 157484549  ┆ 2022 ┆ 298210 ┆ Assd           ┆ 333716  ┆ 346898 ┆ 3468.98        ┆ 1.163267      │\n",
       "│ 158633576  ┆ 2018 ┆ 286100 ┆ Assd           ┆ 350300  ┆ 627860 ┆ 6278.6         ┆ 2.194547      │\n",
       "│ 158633991  ┆ 2022 ┆ 62870  ┆ Assd           ┆ 625100  ┆ 104666 ┆ 1046.66        ┆ 1.6648        │\n",
       "└────────────┴──────┴────────┴────────────────┴─────────┴────────┴────────────────┴───────────────┘"
      ]
     },
     "execution_count": 164,
     "metadata": {},
     "output_type": "execute_result"
    }
   ],
   "source": [
    "merged.filter([\n",
    "    pl.col(\"SaleAmt\").is_not_null(),\n",
    "    pl.col(\"Year\") > 2017\n",
    "]).select(\n",
    "    ['PropertyID','Year','Value','AssessmentUsed','SaleAmt', 'TaxAmt', 'TaxAmtAdjusted']\n",
    ").with_columns([\n",
    "    (pl.col('TaxAmt')/pl.col('Value')).alias(\"ApproxTaxRate\")\n",
    "])"
   ]
  }
 ],
 "metadata": {
  "kernelspec": {
   "display_name": "Python 3",
   "language": "python",
   "name": "python3"
  },
  "language_info": {
   "codemirror_mode": {
    "name": "ipython",
    "version": 3
   },
   "file_extension": ".py",
   "mimetype": "text/x-python",
   "name": "python",
   "nbconvert_exporter": "python",
   "pygments_lexer": "ipython3",
   "version": "3.10.8"
  },
  "orig_nbformat": 4
 },
 "nbformat": 4,
 "nbformat_minor": 2
}
