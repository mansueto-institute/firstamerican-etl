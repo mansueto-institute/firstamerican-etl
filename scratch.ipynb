{
 "cells": [
  {
   "cell_type": "code",
   "execution_count": 8,
   "metadata": {},
   "outputs": [
    {
     "name": "stdout",
     "output_type": "stream",
     "text": [
      "The autoreload extension is already loaded. To reload it, use:\n",
      "  %reload_ext autoreload\n"
     ]
    }
   ],
   "source": [
    "#set up autoreload\n",
    "%load_ext autoreload\n",
    "%autoreload 2\n",
    "\n",
    "import polars as pl\n",
    "from pathlib import Path\n",
    "import pyarrow\n",
    "\n",
    "import importlib  \n",
    "fa_etl = importlib.import_module(\"fa-etl\")"
   ]
  },
  {
   "cell_type": "code",
   "execution_count": 9,
   "metadata": {},
   "outputs": [],
   "source": [
    "county = \"36061\"\n",
    "\n",
    "path_to_dir = \"/Users/claireboyd/internships/mansueto/firstamerican-etl/\"\n",
    "# taxhist = pl.scan_parquet(path_to_dir+f\"dev/{county}/staging/TaxHist{county}.parquet\")\n",
    "# valhist = pl.scan_parquet(path_to_dir+f\"dev/{county}/staging/ValHist{county}.parquet\")\n",
    "# annual = pl.scan_parquet(path_to_dir+f\"dev/{county}/staging/Prop{county}.parquet\")\n",
    "# sales = pl.scan_parquet(path_to_dir+f\"dev/{county}/staging/ranked_Deed{county}.parquet\")\n",
    "merged = pl.read_parquet(path_to_dir+f\"dev/{county}/unified/merged.parquet\")"
   ]
  },
  {
   "cell_type": "code",
   "execution_count": 10,
   "metadata": {},
   "outputs": [
    {
     "data": {
      "text/plain": [
       "(75519, 22)"
      ]
     },
     "execution_count": 10,
     "metadata": {},
     "output_type": "execute_result"
    }
   ],
   "source": [
    "merged.shape"
   ]
  },
  {
   "cell_type": "code",
   "execution_count": 11,
   "metadata": {},
   "outputs": [
    {
     "data": {
      "text/html": [
       "<div><style>\n",
       ".dataframe > thead > tr > th,\n",
       ".dataframe > tbody > tr > td {\n",
       "  text-align: right;\n",
       "  white-space: pre-wrap;\n",
       "}\n",
       "</style>\n",
       "<small>shape: (10, 22)</small><table border=\"1\" class=\"dataframe\"><thead><tr><th>PropertyID</th><th>Year</th><th>Value</th><th>AssessmentUsed</th><th>MarketTotalValue</th><th>ApprTotalValue</th><th>PropertyClassID</th><th>FATimeStamp</th><th>SitusLatitude</th><th>SitusLongitude</th><th>SitusFullStreetAddress</th><th>SitusCity</th><th>SitusState</th><th>SitusZIP5</th><th>FIPS</th><th>SitusCensusTract</th><th>SitusCensusBlock</th><th>SitusGeoStatusCode</th><th>FIPS_SitusCensusTract</th><th>SaleAmt</th><th>TaxAmt</th><th>TaxAmtAdjusted</th></tr><tr><td>i64</td><td>i64</td><td>i64</td><td>str</td><td>i64</td><td>i64</td><td>str</td><td>date</td><td>f64</td><td>f64</td><td>str</td><td>str</td><td>str</td><td>str</td><td>str</td><td>str</td><td>str</td><td>str</td><td>str</td><td>i64</td><td>i64</td><td>f64</td></tr></thead><tbody><tr><td>91847870</td><td>2018</td><td>117677</td><td>&quot;Assd&quot;</td><td>261504</td><td>null</td><td>&quot;R&quot;</td><td>2024-02-07</td><td>40.750965</td><td>-73.982198</td><td>&quot;425 5TH AVE AP…</td><td>&quot;NEW YORK&quot;</td><td>&quot;NY&quot;</td><td>&quot;10016&quot;</td><td>&quot;36061&quot;</td><td>&quot;008200&quot;</td><td>&quot;2004&quot;</td><td>&quot;B&quot;</td><td>&quot;36061_8200&quot;</td><td>1580000</td><td>1310424</td><td>13104.24</td></tr><tr><td>91849008</td><td>2018</td><td>247162</td><td>&quot;Assd&quot;</td><td>1462000</td><td>null</td><td>&quot;R&quot;</td><td>2024-02-07</td><td>40.750447</td><td>-73.997723</td><td>&quot;362 W 30TH ST&quot;</td><td>&quot;NEW YORK&quot;</td><td>&quot;NY&quot;</td><td>&quot;10001&quot;</td><td>&quot;36061&quot;</td><td>&quot;009700&quot;</td><td>&quot;4000&quot;</td><td>&quot;B&quot;</td><td>&quot;36061_9700&quot;</td><td>4400000</td><td>3114052</td><td>31140.52</td></tr><tr><td>91848046</td><td>2018</td><td>71155</td><td>&quot;Assd&quot;</td><td>158123</td><td>null</td><td>&quot;R&quot;</td><td>2024-02-23</td><td>40.738643</td><td>-73.987954</td><td>&quot;254 PARK AVE S…</td><td>&quot;NEW YORK&quot;</td><td>&quot;NY&quot;</td><td>&quot;10010&quot;</td><td>&quot;36061&quot;</td><td>&quot;005200&quot;</td><td>&quot;1000&quot;</td><td>&quot;B&quot;</td><td>&quot;36061_5200&quot;</td><td>712775</td><td>773352</td><td>7733.52</td></tr><tr><td>91846549</td><td>2018</td><td>149310</td><td>&quot;Assd&quot;</td><td>331800</td><td>null</td><td>&quot;R&quot;</td><td>2024-02-07</td><td>40.729262</td><td>-74.004785</td><td>&quot;63 DOWNING ST …</td><td>&quot;NEW YORK&quot;</td><td>&quot;NY&quot;</td><td>&quot;10014&quot;</td><td>&quot;36061&quot;</td><td>&quot;006700&quot;</td><td>&quot;2002&quot;</td><td>&quot;B&quot;</td><td>&quot;36061_6700&quot;</td><td>2475000</td><td>1527372</td><td>15273.72</td></tr><tr><td>91847537</td><td>2018</td><td>128574</td><td>&quot;Assd&quot;</td><td>285721</td><td>null</td><td>&quot;R&quot;</td><td>2024-02-07</td><td>40.73889</td><td>-73.987904</td><td>&quot;260 PARK AVE S…</td><td>&quot;NEW YORK&quot;</td><td>&quot;NY&quot;</td><td>&quot;10010&quot;</td><td>&quot;36061&quot;</td><td>&quot;005200&quot;</td><td>&quot;1000&quot;</td><td>&quot;B&quot;</td><td>&quot;36061_5200&quot;</td><td>1625000</td><td>1496148</td><td>14961.48</td></tr><tr><td>91848333</td><td>2018</td><td>356895</td><td>&quot;Assd&quot;</td><td>793100</td><td>null</td><td>&quot;R&quot;</td><td>2024-02-07</td><td>40.726433</td><td>-73.99315</td><td>&quot;40 BOND ST APT…</td><td>&quot;NEW YORK&quot;</td><td>&quot;NY&quot;</td><td>&quot;10012&quot;</td><td>&quot;36061&quot;</td><td>&quot;005502&quot;</td><td>&quot;1002&quot;</td><td>&quot;B&quot;</td><td>&quot;36061_5502&quot;</td><td>7400000</td><td>3958776</td><td>39587.76</td></tr><tr><td>91846649</td><td>2018</td><td>219589</td><td>&quot;Assd&quot;</td><td>487975</td><td>null</td><td>&quot;R&quot;</td><td>2024-02-07</td><td>40.7408</td><td>-73.9989</td><td>&quot;22-26 W 15TH S…</td><td>&quot;NEW YORK&quot;</td><td>&quot;NY&quot;</td><td>&quot;10011&quot;</td><td>&quot;36061&quot;</td><td>&quot;008100&quot;</td><td>&quot;2000&quot;</td><td>&quot;5&quot;</td><td>&quot;36061_8100&quot;</td><td>3100000</td><td>2518932</td><td>25189.32</td></tr><tr><td>91847215</td><td>2018</td><td>299300</td><td>&quot;Assd&quot;</td><td>665110</td><td>null</td><td>&quot;R&quot;</td><td>2024-02-23</td><td>40.7408</td><td>-73.9989</td><td>&quot;12-14 W 18TH S…</td><td>&quot;NEW YORK&quot;</td><td>&quot;NY&quot;</td><td>&quot;10011&quot;</td><td>&quot;36061&quot;</td><td>&quot;008100&quot;</td><td>&quot;2000&quot;</td><td>&quot;5&quot;</td><td>&quot;36061_8100&quot;</td><td>2825000</td><td>3327036</td><td>33270.36</td></tr><tr><td>91846134</td><td>2022</td><td>718067</td><td>&quot;Assd&quot;</td><td>1595704</td><td>null</td><td>&quot;R&quot;</td><td>2024-02-07</td><td>40.740314</td><td>-73.988185</td><td>&quot;23 E 22ND ST #…</td><td>&quot;NEW YORK&quot;</td><td>&quot;NY&quot;</td><td>&quot;10010&quot;</td><td>&quot;36061&quot;</td><td>&quot;005600&quot;</td><td>&quot;2003&quot;</td><td>&quot;B&quot;</td><td>&quot;36061_5600&quot;</td><td>12500000</td><td>8808528</td><td>88085.28</td></tr><tr><td>91847289</td><td>2018</td><td>143322</td><td>&quot;Assd&quot;</td><td>318493</td><td>null</td><td>&quot;R&quot;</td><td>2024-02-07</td><td>40.726339</td><td>-73.994105</td><td>&quot;19 BOND ST APT…</td><td>&quot;NEW YORK&quot;</td><td>&quot;NY&quot;</td><td>&quot;10012&quot;</td><td>&quot;36061&quot;</td><td>&quot;005502&quot;</td><td>&quot;1003&quot;</td><td>&quot;B&quot;</td><td>&quot;36061_5502&quot;</td><td>2840000</td><td>1723200</td><td>17232.0</td></tr></tbody></table></div>"
      ],
      "text/plain": [
       "shape: (10, 22)\n",
       "┌────────────┬──────┬────────┬──────────────┬───┬──────────────┬──────────┬─────────┬──────────────┐\n",
       "│ PropertyID ┆ Year ┆ Value  ┆ AssessmentUs ┆ … ┆ FIPS_SitusCe ┆ SaleAmt  ┆ TaxAmt  ┆ TaxAmtAdjust │\n",
       "│ ---        ┆ ---  ┆ ---    ┆ ed           ┆   ┆ nsusTract    ┆ ---      ┆ ---     ┆ ed           │\n",
       "│ i64        ┆ i64  ┆ i64    ┆ ---          ┆   ┆ ---          ┆ i64      ┆ i64     ┆ ---          │\n",
       "│            ┆      ┆        ┆ str          ┆   ┆ str          ┆          ┆         ┆ f64          │\n",
       "╞════════════╪══════╪════════╪══════════════╪═══╪══════════════╪══════════╪═════════╪══════════════╡\n",
       "│ 91847870   ┆ 2018 ┆ 117677 ┆ Assd         ┆ … ┆ 36061_8200   ┆ 1580000  ┆ 1310424 ┆ 13104.24     │\n",
       "│ 91849008   ┆ 2018 ┆ 247162 ┆ Assd         ┆ … ┆ 36061_9700   ┆ 4400000  ┆ 3114052 ┆ 31140.52     │\n",
       "│ 91848046   ┆ 2018 ┆ 71155  ┆ Assd         ┆ … ┆ 36061_5200   ┆ 712775   ┆ 773352  ┆ 7733.52      │\n",
       "│ 91846549   ┆ 2018 ┆ 149310 ┆ Assd         ┆ … ┆ 36061_6700   ┆ 2475000  ┆ 1527372 ┆ 15273.72     │\n",
       "│ …          ┆ …    ┆ …      ┆ …            ┆ … ┆ …            ┆ …        ┆ …       ┆ …            │\n",
       "│ 91846649   ┆ 2018 ┆ 219589 ┆ Assd         ┆ … ┆ 36061_8100   ┆ 3100000  ┆ 2518932 ┆ 25189.32     │\n",
       "│ 91847215   ┆ 2018 ┆ 299300 ┆ Assd         ┆ … ┆ 36061_8100   ┆ 2825000  ┆ 3327036 ┆ 33270.36     │\n",
       "│ 91846134   ┆ 2022 ┆ 718067 ┆ Assd         ┆ … ┆ 36061_5600   ┆ 12500000 ┆ 8808528 ┆ 88085.28     │\n",
       "│ 91847289   ┆ 2018 ┆ 143322 ┆ Assd         ┆ … ┆ 36061_5502   ┆ 2840000  ┆ 1723200 ┆ 17232.0      │\n",
       "└────────────┴──────┴────────┴──────────────┴───┴──────────────┴──────────┴─────────┴──────────────┘"
      ]
     },
     "execution_count": 11,
     "metadata": {},
     "output_type": "execute_result"
    }
   ],
   "source": [
    "merged.head(10)"
   ]
  },
  {
   "cell_type": "code",
   "execution_count": 12,
   "metadata": {},
   "outputs": [
    {
     "data": {
      "text/html": [
       "<div><style>\n",
       ".dataframe > thead > tr > th,\n",
       ".dataframe > tbody > tr > td {\n",
       "  text-align: right;\n",
       "  white-space: pre-wrap;\n",
       "}\n",
       "</style>\n",
       "<small>shape: (44_004, 8)</small><table border=\"1\" class=\"dataframe\"><thead><tr><th>PropertyID</th><th>Year</th><th>Value</th><th>AssessmentUsed</th><th>SaleAmt</th><th>TaxAmt</th><th>TaxAmtAdjusted</th><th>ApproxTaxRate</th></tr><tr><td>i64</td><td>i64</td><td>i64</td><td>str</td><td>i64</td><td>i64</td><td>f64</td><td>f64</td></tr></thead><tbody><tr><td>91847870</td><td>2018</td><td>117677</td><td>&quot;Assd&quot;</td><td>1580000</td><td>1310424</td><td>13104.24</td><td>11.13577</td></tr><tr><td>91849008</td><td>2018</td><td>247162</td><td>&quot;Assd&quot;</td><td>4400000</td><td>3114052</td><td>31140.52</td><td>12.599235</td></tr><tr><td>91848046</td><td>2018</td><td>71155</td><td>&quot;Assd&quot;</td><td>712775</td><td>773352</td><td>7733.52</td><td>10.868555</td></tr><tr><td>91846549</td><td>2018</td><td>149310</td><td>&quot;Assd&quot;</td><td>2475000</td><td>1527372</td><td>15273.72</td><td>10.229536</td></tr><tr><td>91847537</td><td>2018</td><td>128574</td><td>&quot;Assd&quot;</td><td>1625000</td><td>1496148</td><td>14961.48</td><td>11.636474</td></tr><tr><td>91848333</td><td>2018</td><td>356895</td><td>&quot;Assd&quot;</td><td>7400000</td><td>3958776</td><td>39587.76</td><td>11.092271</td></tr><tr><td>91846649</td><td>2018</td><td>219589</td><td>&quot;Assd&quot;</td><td>3100000</td><td>2518932</td><td>25189.32</td><td>11.471121</td></tr><tr><td>91847215</td><td>2018</td><td>299300</td><td>&quot;Assd&quot;</td><td>2825000</td><td>3327036</td><td>33270.36</td><td>11.116057</td></tr><tr><td>91846134</td><td>2022</td><td>718067</td><td>&quot;Assd&quot;</td><td>12500000</td><td>8808528</td><td>88085.28</td><td>12.267</td></tr><tr><td>91847289</td><td>2018</td><td>143322</td><td>&quot;Assd&quot;</td><td>2840000</td><td>1723200</td><td>17232.0</td><td>12.023276</td></tr><tr><td>91848235</td><td>2018</td><td>98891</td><td>&quot;Assd&quot;</td><td>840000</td><td>1074844</td><td>10748.44</td><td>10.868977</td></tr><tr><td>91847234</td><td>2018</td><td>97929</td><td>&quot;Assd&quot;</td><td>2000000</td><td>1138124</td><td>11381.24</td><td>11.62193</td></tr><tr><td>&hellip;</td><td>&hellip;</td><td>&hellip;</td><td>&hellip;</td><td>&hellip;</td><td>&hellip;</td><td>&hellip;</td><td>&hellip;</td></tr><tr><td>91951526</td><td>2020</td><td>43461</td><td>&quot;Assd&quot;</td><td>280000</td><td>null</td><td>null</td><td>null</td></tr><tr><td>91950328</td><td>2020</td><td>791550</td><td>&quot;Assd&quot;</td><td>12000000</td><td>null</td><td>null</td><td>null</td></tr><tr><td>91951497</td><td>2023</td><td>388800</td><td>&quot;Assd&quot;</td><td>2613000</td><td>4860778</td><td>48607.78</td><td>12.502001</td></tr><tr><td>91951494</td><td>2023</td><td>423000</td><td>&quot;Assd&quot;</td><td>2321000</td><td>5288346</td><td>52883.46</td><td>12.502</td></tr><tr><td>91951499</td><td>2023</td><td>376200</td><td>&quot;Assd&quot;</td><td>2566000</td><td>4703252</td><td>47032.52</td><td>12.501999</td></tr><tr><td>91951505</td><td>2023</td><td>418950</td><td>&quot;Assd&quot;</td><td>1942000</td><td>5237713</td><td>52377.13</td><td>12.502</td></tr><tr><td>91951508</td><td>2023</td><td>418950</td><td>&quot;Assd&quot;</td><td>2795000</td><td>5237713</td><td>52377.13</td><td>12.502</td></tr><tr><td>91950049</td><td>2023</td><td>88208</td><td>&quot;Assd&quot;</td><td>580000</td><td>1102776</td><td>11027.76</td><td>12.501995</td></tr><tr><td>91950055</td><td>2023</td><td>90672</td><td>&quot;Assd&quot;</td><td>570000</td><td>1133581</td><td>11335.81</td><td>12.501996</td></tr><tr><td>91949993</td><td>2023</td><td>30010</td><td>&quot;Assd&quot;</td><td>550000</td><td>375185</td><td>3751.85</td><td>12.501999</td></tr><tr><td>91950231</td><td>2023</td><td>30130</td><td>&quot;Assd&quot;</td><td>4601351</td><td>376685</td><td>3766.85</td><td>12.501991</td></tr><tr><td>91951304</td><td>2023</td><td>36494</td><td>&quot;Assd&quot;</td><td>971562</td><td>704863</td><td>7048.63</td><td>19.31449</td></tr></tbody></table></div>"
      ],
      "text/plain": [
       "shape: (44_004, 8)\n",
       "┌────────────┬──────┬────────┬────────────────┬─────────┬─────────┬────────────────┬───────────────┐\n",
       "│ PropertyID ┆ Year ┆ Value  ┆ AssessmentUsed ┆ SaleAmt ┆ TaxAmt  ┆ TaxAmtAdjusted ┆ ApproxTaxRate │\n",
       "│ ---        ┆ ---  ┆ ---    ┆ ---            ┆ ---     ┆ ---     ┆ ---            ┆ ---           │\n",
       "│ i64        ┆ i64  ┆ i64    ┆ str            ┆ i64     ┆ i64     ┆ f64            ┆ f64           │\n",
       "╞════════════╪══════╪════════╪════════════════╪═════════╪═════════╪════════════════╪═══════════════╡\n",
       "│ 91847870   ┆ 2018 ┆ 117677 ┆ Assd           ┆ 1580000 ┆ 1310424 ┆ 13104.24       ┆ 11.13577      │\n",
       "│ 91849008   ┆ 2018 ┆ 247162 ┆ Assd           ┆ 4400000 ┆ 3114052 ┆ 31140.52       ┆ 12.599235     │\n",
       "│ 91848046   ┆ 2018 ┆ 71155  ┆ Assd           ┆ 712775  ┆ 773352  ┆ 7733.52        ┆ 10.868555     │\n",
       "│ 91846549   ┆ 2018 ┆ 149310 ┆ Assd           ┆ 2475000 ┆ 1527372 ┆ 15273.72       ┆ 10.229536     │\n",
       "│ …          ┆ …    ┆ …      ┆ …              ┆ …       ┆ …       ┆ …              ┆ …             │\n",
       "│ 91950055   ┆ 2023 ┆ 90672  ┆ Assd           ┆ 570000  ┆ 1133581 ┆ 11335.81       ┆ 12.501996     │\n",
       "│ 91949993   ┆ 2023 ┆ 30010  ┆ Assd           ┆ 550000  ┆ 375185  ┆ 3751.85        ┆ 12.501999     │\n",
       "│ 91950231   ┆ 2023 ┆ 30130  ┆ Assd           ┆ 4601351 ┆ 376685  ┆ 3766.85        ┆ 12.501991     │\n",
       "│ 91951304   ┆ 2023 ┆ 36494  ┆ Assd           ┆ 971562  ┆ 704863  ┆ 7048.63        ┆ 19.31449      │\n",
       "└────────────┴──────┴────────┴────────────────┴─────────┴─────────┴────────────────┴───────────────┘"
      ]
     },
     "execution_count": 12,
     "metadata": {},
     "output_type": "execute_result"
    }
   ],
   "source": [
    "merged.filter([\n",
    "    pl.col(\"SaleAmt\").is_not_null(),\n",
    "    pl.col(\"Year\") > 2017\n",
    "]).select(\n",
    "    ['PropertyID','Year','Value','AssessmentUsed','SaleAmt', 'TaxAmt', 'TaxAmtAdjusted']\n",
    ").with_columns([\n",
    "    (pl.col('TaxAmt')/pl.col('Value')).alias(\"ApproxTaxRate\")\n",
    "])"
   ]
  }
 ],
 "metadata": {
  "kernelspec": {
   "display_name": "Python 3",
   "language": "python",
   "name": "python3"
  },
  "language_info": {
   "codemirror_mode": {
    "name": "ipython",
    "version": 3
   },
   "file_extension": ".py",
   "mimetype": "text/x-python",
   "name": "python",
   "nbconvert_exporter": "python",
   "pygments_lexer": "ipython3",
   "version": "3.10.8"
  },
  "orig_nbformat": 4
 },
 "nbformat": 4,
 "nbformat_minor": 2
}
