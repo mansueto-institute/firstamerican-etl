{
 "cells": [
  {
   "cell_type": "code",
   "execution_count": 1,
   "metadata": {},
   "outputs": [],
   "source": [
    "#set up autoreload\n",
    "%load_ext autoreload\n",
    "%autoreload 2\n",
    "\n",
    "import polars as pl\n",
    "from pathlib import Path\n",
    "\n",
    "import importlib  \n",
    "fa_etl = importlib.import_module(\"fa-etl\")"
   ]
  },
  {
   "cell_type": "code",
   "execution_count": 9,
   "metadata": {},
   "outputs": [],
   "source": [
    "county = \"36061\"\n",
    "path_to_dir = \"/Users/claireboyd/internships/mansueto/firstamerican-etl/\"\n",
    "output_filepath_ranked = path_to_dir+f\"dev/{county}/staging/ranked_ValHist{county}.parquet\"\n",
    "\n",
    "taxhist = pl.read_parquet(path_to_dir+f\"dev/{county}/staging/TaxHist{county}.parquet\")\n",
    "valhist = pl.read_parquet(path_to_dir+f\"dev/{county}/staging/ValHist{county}.parquet\")\n",
    "annual = pl.read_parquet(path_to_dir+f\"dev/{county}/staging/Prop{county}.parquet\")\n",
    "sales_ranked = pl.read_parquet(path_to_dir+f\"dev/{county}/staging/ranked_Deed{county}.parquet\")\n",
    "sales = pl.read_parquet(path_to_dir+f\"dev/{county}/staging/Deed{county}.parquet\")\n",
    "\n",
    "appr = pl.scan_parquet(path_to_dir+f\"dev/{county}/staging/appr.parquet\", low_memory=True)\n",
    "assd = pl.scan_parquet(path_to_dir+f\"dev/{county}/staging/assd.parquet\", low_memory=True)\n",
    "market = pl.scan_parquet(path_to_dir+f\"dev/{county}/staging/market.parquet\", low_memory=True)"
   ]
  },
  {
   "cell_type": "code",
   "execution_count": 10,
   "metadata": {},
   "outputs": [],
   "source": [
    "assd.join(\n",
    "    other=market,\n",
    "    how=\"left\",\n",
    "    on=['PropertyID', 'Year'],\n",
    ").sink_parquet(Path(output_filepath_ranked), compression=\"snappy\")"
   ]
  },
  {
   "cell_type": "code",
   "execution_count": 12,
   "metadata": {},
   "outputs": [],
   "source": [
    "ranked_valhist = pl.read_parquet(path_to_dir+f\"dev/{county}/staging/ranked_ValHist{county}.parquet\")"
   ]
  },
  {
   "cell_type": "code",
   "execution_count": 22,
   "metadata": {},
   "outputs": [
    {
     "data": {
      "text/plain": [
       "False"
      ]
     },
     "execution_count": 22,
     "metadata": {},
     "output_type": "execute_result"
    }
   ],
   "source": [
    "fa_etl.is_lazydataframe_empty(path_to_dir+f\"dev/{county}/staging/ranked_ValHist{county}.parquet\")"
   ]
  },
  {
   "cell_type": "code",
   "execution_count": 23,
   "metadata": {},
   "outputs": [
    {
     "data": {
      "text/plain": [
       "(3566623, 4)"
      ]
     },
     "execution_count": 23,
     "metadata": {},
     "output_type": "execute_result"
    }
   ],
   "source": [
    "ranked_valhist.shape"
   ]
  },
  {
   "cell_type": "code",
   "execution_count": 8,
   "metadata": {},
   "outputs": [
    {
     "data": {
      "text/plain": [
       "OrderedDict([('PropertyID', Int64),\n",
       "             ('AssdTotalValue', Int64),\n",
       "             ('AssdYear', Int64),\n",
       "             ('MarketTotalValue', Int64),\n",
       "             ('MarketValueYear', Int64),\n",
       "             ('ApprTotalValue', Int64),\n",
       "             ('ApprYear', Int64),\n",
       "             ('TaxableYear', Int64)])"
      ]
     },
     "execution_count": 8,
     "metadata": {},
     "output_type": "execute_result"
    }
   ],
   "source": [
    "valhist.schema"
   ]
  },
  {
   "cell_type": "code",
   "execution_count": 24,
   "metadata": {},
   "outputs": [],
   "source": [
    "merged = pl.read_parquet(path_to_dir+f\"dev/{county}/unified/merged.parquet\")"
   ]
  },
  {
   "cell_type": "code",
   "execution_count": 27,
   "metadata": {},
   "outputs": [
    {
     "data": {
      "text/html": [
       "<div><style>\n",
       ".dataframe > thead > tr,\n",
       ".dataframe > tbody > tr {\n",
       "  text-align: right;\n",
       "  white-space: pre-wrap;\n",
       "}\n",
       "</style>\n",
       "<small>shape: (5, 17)</small><table border=\"1\" class=\"dataframe\"><thead><tr><th>PropertyID</th><th>Year</th><th>Value</th><th>MarketTotalValue</th><th>ApprTotalValue</th><th>SitusLatitude</th><th>SitusLongitude</th><th>SitusFullStreetAddress</th><th>SitusCity</th><th>SitusState</th><th>SitusZIP5</th><th>FIPS</th><th>SitusCensusTract</th><th>SitusCensusBlock</th><th>SaleAmt</th><th>TaxAmt</th><th>TaxAmtAdjusted</th></tr><tr><td>i64</td><td>i64</td><td>i64</td><td>i64</td><td>null</td><td>f64</td><td>f64</td><td>str</td><td>str</td><td>str</td><td>str</td><td>str</td><td>str</td><td>str</td><td>i64</td><td>i64</td><td>f64</td></tr></thead><tbody><tr><td>91847870</td><td>2018</td><td>117677</td><td>261504</td><td>null</td><td>40.750965</td><td>-73.982198</td><td>&quot;425 5TH AVE AP…</td><td>&quot;NEW YORK&quot;</td><td>&quot;NY&quot;</td><td>&quot;10016&quot;</td><td>&quot;36061&quot;</td><td>&quot;008200&quot;</td><td>&quot;2004&quot;</td><td>1580000</td><td>1310424</td><td>13104.24</td></tr><tr><td>91849008</td><td>2018</td><td>247162</td><td>1462000</td><td>null</td><td>40.750447</td><td>-73.997723</td><td>&quot;362 W 30TH ST&quot;</td><td>&quot;NEW YORK&quot;</td><td>&quot;NY&quot;</td><td>&quot;10001&quot;</td><td>&quot;36061&quot;</td><td>&quot;009700&quot;</td><td>&quot;4000&quot;</td><td>4400000</td><td>3114052</td><td>31140.52</td></tr><tr><td>91848046</td><td>2018</td><td>71155</td><td>158123</td><td>null</td><td>40.738643</td><td>-73.987954</td><td>&quot;254 PARK AVE S…</td><td>&quot;NEW YORK&quot;</td><td>&quot;NY&quot;</td><td>&quot;10010&quot;</td><td>&quot;36061&quot;</td><td>&quot;005200&quot;</td><td>&quot;1000&quot;</td><td>712775</td><td>773352</td><td>7733.52</td></tr><tr><td>91846549</td><td>2018</td><td>149310</td><td>331800</td><td>null</td><td>40.729262</td><td>-74.004785</td><td>&quot;63 DOWNING ST …</td><td>&quot;NEW YORK&quot;</td><td>&quot;NY&quot;</td><td>&quot;10014&quot;</td><td>&quot;36061&quot;</td><td>&quot;006700&quot;</td><td>&quot;2002&quot;</td><td>2475000</td><td>1527372</td><td>15273.72</td></tr><tr><td>91847537</td><td>2018</td><td>128574</td><td>285721</td><td>null</td><td>40.73889</td><td>-73.987904</td><td>&quot;260 PARK AVE S…</td><td>&quot;NEW YORK&quot;</td><td>&quot;NY&quot;</td><td>&quot;10010&quot;</td><td>&quot;36061&quot;</td><td>&quot;005200&quot;</td><td>&quot;1000&quot;</td><td>1625000</td><td>1496148</td><td>14961.48</td></tr></tbody></table></div>"
      ],
      "text/plain": [
       "shape: (5, 17)\n",
       "┌────────────┬──────┬────────┬───────────────┬───┬──────────────┬─────────┬─────────┬──────────────┐\n",
       "│ PropertyID ┆ Year ┆ Value  ┆ MarketTotalVa ┆ … ┆ SitusCensusB ┆ SaleAmt ┆ TaxAmt  ┆ TaxAmtAdjust │\n",
       "│ ---        ┆ ---  ┆ ---    ┆ lue           ┆   ┆ lock         ┆ ---     ┆ ---     ┆ ed           │\n",
       "│ i64        ┆ i64  ┆ i64    ┆ ---           ┆   ┆ ---          ┆ i64     ┆ i64     ┆ ---          │\n",
       "│            ┆      ┆        ┆ i64           ┆   ┆ str          ┆         ┆         ┆ f64          │\n",
       "╞════════════╪══════╪════════╪═══════════════╪═══╪══════════════╪═════════╪═════════╪══════════════╡\n",
       "│ 91847870   ┆ 2018 ┆ 117677 ┆ 261504        ┆ … ┆ 2004         ┆ 1580000 ┆ 1310424 ┆ 13104.24     │\n",
       "│ 91849008   ┆ 2018 ┆ 247162 ┆ 1462000       ┆ … ┆ 4000         ┆ 4400000 ┆ 3114052 ┆ 31140.52     │\n",
       "│ 91848046   ┆ 2018 ┆ 71155  ┆ 158123        ┆ … ┆ 1000         ┆ 712775  ┆ 773352  ┆ 7733.52      │\n",
       "│ 91846549   ┆ 2018 ┆ 149310 ┆ 331800        ┆ … ┆ 2002         ┆ 2475000 ┆ 1527372 ┆ 15273.72     │\n",
       "│ 91847537   ┆ 2018 ┆ 128574 ┆ 285721        ┆ … ┆ 1000         ┆ 1625000 ┆ 1496148 ┆ 14961.48     │\n",
       "└────────────┴──────┴────────┴───────────────┴───┴──────────────┴─────────┴─────────┴──────────────┘"
      ]
     },
     "execution_count": 27,
     "metadata": {},
     "output_type": "execute_result"
    }
   ],
   "source": [
    "merged.head()"
   ]
  }
 ],
 "metadata": {
  "kernelspec": {
   "display_name": "Python 3",
   "language": "python",
   "name": "python3"
  },
  "language_info": {
   "codemirror_mode": {
    "name": "ipython",
    "version": 3
   },
   "file_extension": ".py",
   "mimetype": "text/x-python",
   "name": "python",
   "nbconvert_exporter": "python",
   "pygments_lexer": "ipython3",
   "version": "3.11.5"
  },
  "orig_nbformat": 4
 },
 "nbformat": 4,
 "nbformat_minor": 2
}
