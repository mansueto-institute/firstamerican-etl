{
 "cells": [
  {
   "cell_type": "code",
   "execution_count": 1,
   "metadata": {},
   "outputs": [],
   "source": [
    "#set up autoreload\n",
    "%load_ext autoreload\n",
    "%autoreload 2\n",
    "\n",
    "import polars as pl\n",
    "from pathlib import Path\n",
    "\n",
    "import importlib  \n",
    "fa_etl = importlib.import_module(\"fa-etl\")"
   ]
  },
  {
   "cell_type": "code",
   "execution_count": 2,
   "metadata": {},
   "outputs": [],
   "source": [
    "county = \"42101\"\n",
    "\n",
    "path_to_dir = \"/Users/claireboyd/internships/mansueto/firstamerican-etl/\"\n",
    "taxhist = pl.read_parquet(path_to_dir+f\"dev/{county}/staging/TaxHist{county}.parquet\")\n",
    "valhist = pl.read_parquet(path_to_dir+f\"dev/{county}/staging/ranked_ValHist{county}.parquet\")\n",
    "annual = pl.read_parquet(path_to_dir+f\"dev/{county}/staging/Prop{county}.parquet\")\n",
    "sales = pl.read_parquet(path_to_dir+f\"dev/{county}/staging/ranked_Deed{county}.parquet\")\n",
    "merged = pl.read_parquet(path_to_dir+f\"dev/{county}/unified/merged.parquet\")"
   ]
  },
  {
   "cell_type": "code",
   "execution_count": 3,
   "metadata": {},
   "outputs": [
    {
     "data": {
      "text/html": [
       "<div><style>\n",
       ".dataframe > thead > tr > th,\n",
       ".dataframe > tbody > tr > td {\n",
       "  text-align: right;\n",
       "  white-space: pre-wrap;\n",
       "}\n",
       "</style>\n",
       "<small>shape: (3_473_896, 12)</small><table border=\"1\" class=\"dataframe\"><thead><tr><th>PropertyID</th><th>AssdTotalValue</th><th>AssdYear</th><th>MarketTotalValue</th><th>MarketValueYear</th><th>ApprTotalValue</th><th>ApprYear</th><th>TaxableYear</th><th>Year</th><th>Value</th><th>AssessmentUsed</th><th>RecentValueByYear</th></tr><tr><td>i64</td><td>i64</td><td>i64</td><td>i64</td><td>i64</td><td>i64</td><td>i64</td><td>i64</td><td>i64</td><td>i64</td><td>str</td><td>u32</td></tr></thead><tbody><tr><td>116348448</td><td>0</td><td>2021</td><td>178800</td><td>2021</td><td>0</td><td>null</td><td>null</td><td>2021</td><td>178800</td><td>&quot;Market&quot;</td><td>1</td></tr><tr><td>116348329</td><td>0</td><td>2021</td><td>45800</td><td>2021</td><td>0</td><td>null</td><td>null</td><td>2021</td><td>45800</td><td>&quot;Market&quot;</td><td>1</td></tr><tr><td>116348332</td><td>0</td><td>2021</td><td>115800</td><td>2021</td><td>0</td><td>null</td><td>null</td><td>2021</td><td>115800</td><td>&quot;Market&quot;</td><td>1</td></tr><tr><td>116347966</td><td>0</td><td>2021</td><td>202800</td><td>2021</td><td>0</td><td>null</td><td>null</td><td>2021</td><td>202800</td><td>&quot;Market&quot;</td><td>1</td></tr><tr><td>116347972</td><td>0</td><td>2021</td><td>187000</td><td>2021</td><td>0</td><td>null</td><td>null</td><td>2021</td><td>187000</td><td>&quot;Market&quot;</td><td>1</td></tr><tr><td>116348106</td><td>0</td><td>2019</td><td>249400</td><td>2020</td><td>0</td><td>null</td><td>null</td><td>2020</td><td>249400</td><td>&quot;Market&quot;</td><td>1</td></tr><tr><td>116348056</td><td>0</td><td>2019</td><td>167600</td><td>2020</td><td>0</td><td>null</td><td>null</td><td>2020</td><td>167600</td><td>&quot;Market&quot;</td><td>1</td></tr><tr><td>116348058</td><td>0</td><td>2019</td><td>285300</td><td>2020</td><td>0</td><td>null</td><td>null</td><td>2020</td><td>285300</td><td>&quot;Market&quot;</td><td>1</td></tr><tr><td>116375262</td><td>787200</td><td>2020</td><td>787200</td><td>2020</td><td>0</td><td>null</td><td>null</td><td>2020</td><td>787200</td><td>&quot;Market&quot;</td><td>1</td></tr><tr><td>116375197</td><td>845300</td><td>2022</td><td>845300</td><td>2020</td><td>0</td><td>null</td><td>null</td><td>2022</td><td>845300</td><td>&quot;Assd&quot;</td><td>1</td></tr><tr><td>116375200</td><td>249900</td><td>2022</td><td>249900</td><td>2020</td><td>0</td><td>null</td><td>null</td><td>2022</td><td>249900</td><td>&quot;Assd&quot;</td><td>1</td></tr><tr><td>116375316</td><td>709100</td><td>2022</td><td>709100</td><td>2020</td><td>0</td><td>null</td><td>null</td><td>2022</td><td>709100</td><td>&quot;Assd&quot;</td><td>1</td></tr><tr><td>&hellip;</td><td>&hellip;</td><td>&hellip;</td><td>&hellip;</td><td>&hellip;</td><td>&hellip;</td><td>&hellip;</td><td>&hellip;</td><td>&hellip;</td><td>&hellip;</td><td>&hellip;</td><td>&hellip;</td></tr><tr><td>116444151</td><td>57400</td><td>2023</td><td>57400</td><td>2023</td><td>0</td><td>null</td><td>null</td><td>2023</td><td>57400</td><td>&quot;Market&quot;</td><td>1</td></tr><tr><td>116444187</td><td>210600</td><td>2023</td><td>210600</td><td>2023</td><td>0</td><td>null</td><td>null</td><td>2023</td><td>210600</td><td>&quot;Market&quot;</td><td>1</td></tr><tr><td>116444185</td><td>57400</td><td>2023</td><td>57400</td><td>2023</td><td>0</td><td>null</td><td>null</td><td>2023</td><td>57400</td><td>&quot;Market&quot;</td><td>1</td></tr><tr><td>116444186</td><td>159000</td><td>2023</td><td>159000</td><td>2023</td><td>0</td><td>null</td><td>null</td><td>2023</td><td>159000</td><td>&quot;Market&quot;</td><td>1</td></tr><tr><td>116444184</td><td>176700</td><td>2023</td><td>176700</td><td>2023</td><td>0</td><td>null</td><td>null</td><td>2023</td><td>176700</td><td>&quot;Market&quot;</td><td>1</td></tr><tr><td>116444176</td><td>205100</td><td>2023</td><td>205100</td><td>2023</td><td>0</td><td>null</td><td>null</td><td>2023</td><td>205100</td><td>&quot;Market&quot;</td><td>1</td></tr><tr><td>116444178</td><td>122700</td><td>2023</td><td>122700</td><td>2023</td><td>0</td><td>null</td><td>null</td><td>2023</td><td>122700</td><td>&quot;Market&quot;</td><td>1</td></tr><tr><td>116444179</td><td>172600</td><td>2023</td><td>172600</td><td>2023</td><td>0</td><td>null</td><td>null</td><td>2023</td><td>172600</td><td>&quot;Market&quot;</td><td>1</td></tr><tr><td>116444182</td><td>57400</td><td>2023</td><td>57400</td><td>2023</td><td>0</td><td>null</td><td>null</td><td>2023</td><td>57400</td><td>&quot;Market&quot;</td><td>1</td></tr><tr><td>116444180</td><td>173500</td><td>2023</td><td>173500</td><td>2023</td><td>0</td><td>null</td><td>null</td><td>2023</td><td>173500</td><td>&quot;Market&quot;</td><td>1</td></tr><tr><td>116444183</td><td>178000</td><td>2023</td><td>178000</td><td>2023</td><td>0</td><td>null</td><td>null</td><td>2023</td><td>178000</td><td>&quot;Market&quot;</td><td>1</td></tr><tr><td>116444181</td><td>38600</td><td>2023</td><td>38600</td><td>2023</td><td>0</td><td>null</td><td>null</td><td>2023</td><td>38600</td><td>&quot;Market&quot;</td><td>1</td></tr></tbody></table></div>"
      ],
      "text/plain": [
       "shape: (3_473_896, 12)\n",
       "┌────────────┬─────────────┬──────────┬─────────────┬───┬──────┬────────┬─────────────┬────────────┐\n",
       "│ PropertyID ┆ AssdTotalVa ┆ AssdYear ┆ MarketTotal ┆ … ┆ Year ┆ Value  ┆ AssessmentU ┆ RecentValu │\n",
       "│ ---        ┆ lue         ┆ ---      ┆ Value       ┆   ┆ ---  ┆ ---    ┆ sed         ┆ eByYear    │\n",
       "│ i64        ┆ ---         ┆ i64      ┆ ---         ┆   ┆ i64  ┆ i64    ┆ ---         ┆ ---        │\n",
       "│            ┆ i64         ┆          ┆ i64         ┆   ┆      ┆        ┆ str         ┆ u32        │\n",
       "╞════════════╪═════════════╪══════════╪═════════════╪═══╪══════╪════════╪═════════════╪════════════╡\n",
       "│ 116348448  ┆ 0           ┆ 2021     ┆ 178800      ┆ … ┆ 2021 ┆ 178800 ┆ Market      ┆ 1          │\n",
       "│ 116348329  ┆ 0           ┆ 2021     ┆ 45800       ┆ … ┆ 2021 ┆ 45800  ┆ Market      ┆ 1          │\n",
       "│ 116348332  ┆ 0           ┆ 2021     ┆ 115800      ┆ … ┆ 2021 ┆ 115800 ┆ Market      ┆ 1          │\n",
       "│ 116347966  ┆ 0           ┆ 2021     ┆ 202800      ┆ … ┆ 2021 ┆ 202800 ┆ Market      ┆ 1          │\n",
       "│ …          ┆ …           ┆ …        ┆ …           ┆ … ┆ …    ┆ …      ┆ …           ┆ …          │\n",
       "│ 116444182  ┆ 57400       ┆ 2023     ┆ 57400       ┆ … ┆ 2023 ┆ 57400  ┆ Market      ┆ 1          │\n",
       "│ 116444180  ┆ 173500      ┆ 2023     ┆ 173500      ┆ … ┆ 2023 ┆ 173500 ┆ Market      ┆ 1          │\n",
       "│ 116444183  ┆ 178000      ┆ 2023     ┆ 178000      ┆ … ┆ 2023 ┆ 178000 ┆ Market      ┆ 1          │\n",
       "│ 116444181  ┆ 38600       ┆ 2023     ┆ 38600       ┆ … ┆ 2023 ┆ 38600  ┆ Market      ┆ 1          │\n",
       "└────────────┴─────────────┴──────────┴─────────────┴───┴──────┴────────┴─────────────┴────────────┘"
      ]
     },
     "execution_count": 3,
     "metadata": {},
     "output_type": "execute_result"
    }
   ],
   "source": [
    "valhist.filter(\n",
    "    pl.col('Year') > 2017\n",
    ")"
   ]
  },
  {
   "cell_type": "code",
   "execution_count": 4,
   "metadata": {},
   "outputs": [
    {
     "data": {
      "text/plain": [
       "(4531915, 28)"
      ]
     },
     "execution_count": 4,
     "metadata": {},
     "output_type": "execute_result"
    }
   ],
   "source": [
    "merged.shape"
   ]
  },
  {
   "cell_type": "code",
   "execution_count": 5,
   "metadata": {},
   "outputs": [
    {
     "data": {
      "text/html": [
       "<div><style>\n",
       ".dataframe > thead > tr > th,\n",
       ".dataframe > tbody > tr > td {\n",
       "  text-align: right;\n",
       "  white-space: pre-wrap;\n",
       "}\n",
       "</style>\n",
       "<small>shape: (10, 28)</small><table border=\"1\" class=\"dataframe\"><thead><tr><th>PropertyID</th><th>AssdTotalValue</th><th>AssdYear</th><th>MarketTotalValue</th><th>MarketValueYear</th><th>ApprTotalValue</th><th>ApprYear</th><th>TaxableYear</th><th>Year</th><th>Value</th><th>AssessmentUsed</th><th>RecentValueByYear</th><th>PropertyClassID</th><th>FATimeStamp</th><th>SitusLatitude</th><th>SitusLongitude</th><th>SitusFullStreetAddress</th><th>SitusCity</th><th>SitusState</th><th>SitusZIP5</th><th>FIPS</th><th>SitusCensusTract</th><th>SitusCensusBlock</th><th>SitusGeoStatusCode</th><th>FIPS_SitusCensusTract</th><th>SaleAmt</th><th>TaxAmt</th><th>TaxAmtAdjusted</th></tr><tr><td>i64</td><td>i64</td><td>i64</td><td>i64</td><td>i64</td><td>i64</td><td>i64</td><td>i64</td><td>i64</td><td>i64</td><td>str</td><td>u32</td><td>str</td><td>date</td><td>f64</td><td>f64</td><td>str</td><td>str</td><td>str</td><td>str</td><td>str</td><td>str</td><td>str</td><td>str</td><td>str</td><td>i64</td><td>i64</td><td>f64</td></tr></thead><tbody><tr><td>116348448</td><td>0</td><td>2021</td><td>178800</td><td>2021</td><td>0</td><td>null</td><td>null</td><td>2021</td><td>178800</td><td>&quot;Market&quot;</td><td>1</td><td>&quot;R&quot;</td><td>2024-01-19</td><td>39.936438</td><td>-75.163489</td><td>&quot;1204 PETERS ST…</td><td>&quot;PHILADELPHIA&quot;</td><td>&quot;PA&quot;</td><td>&quot;19147&quot;</td><td>&quot;42101&quot;</td><td>&quot;002400&quot;</td><td>&quot;5013&quot;</td><td>&quot;B&quot;</td><td>&quot;42101_2400&quot;</td><td>null</td><td>250284</td><td>2502.84</td></tr><tr><td>116348332</td><td>0</td><td>2021</td><td>115800</td><td>2021</td><td>0</td><td>null</td><td>null</td><td>2021</td><td>115800</td><td>&quot;Market&quot;</td><td>1</td><td>&quot;R&quot;</td><td>2024-01-19</td><td>39.93304</td><td>-75.160179</td><td>&quot;922 WHARTON ST…</td><td>&quot;PHILADELPHIA&quot;</td><td>&quot;PA&quot;</td><td>&quot;19147&quot;</td><td>&quot;42101&quot;</td><td>&quot;002900&quot;</td><td>&quot;3000&quot;</td><td>&quot;B&quot;</td><td>&quot;42101_2900&quot;</td><td>null</td><td>162097</td><td>1620.97</td></tr><tr><td>116347966</td><td>0</td><td>2021</td><td>202800</td><td>2021</td><td>0</td><td>null</td><td>null</td><td>2021</td><td>202800</td><td>&quot;Market&quot;</td><td>1</td><td>&quot;R&quot;</td><td>2024-01-19</td><td>39.926453</td><td>-75.161272</td><td>&quot;914 MCCLELLAN …</td><td>&quot;PHILADELPHIA&quot;</td><td>&quot;PA&quot;</td><td>&quot;19148&quot;</td><td>&quot;42101&quot;</td><td>&quot;002802&quot;</td><td>&quot;1013&quot;</td><td>&quot;B&quot;</td><td>&quot;42101_2802&quot;</td><td>null</td><td>283879</td><td>2838.79</td></tr><tr><td>116347972</td><td>0</td><td>2021</td><td>187000</td><td>2021</td><td>0</td><td>null</td><td>null</td><td>2021</td><td>187000</td><td>&quot;Market&quot;</td><td>1</td><td>&quot;R&quot;</td><td>2024-01-19</td><td>39.926482</td><td>-75.16156</td><td>&quot;926 MCCLELLAN …</td><td>&quot;PHILADELPHIA&quot;</td><td>&quot;PA&quot;</td><td>&quot;19148&quot;</td><td>&quot;42101&quot;</td><td>&quot;002802&quot;</td><td>&quot;1013&quot;</td><td>&quot;B&quot;</td><td>&quot;42101_2802&quot;</td><td>null</td><td>261763</td><td>2617.63</td></tr><tr><td>116348106</td><td>11072</td><td>2012</td><td>34600</td><td>2007</td><td>0</td><td>null</td><td>null</td><td>2012</td><td>11072</td><td>&quot;Assd&quot;</td><td>1</td><td>&quot;R&quot;</td><td>2024-01-19</td><td>39.928347</td><td>-75.159963</td><td>&quot;1631 S 9TH ST&quot;</td><td>&quot;PHILADELPHIA&quot;</td><td>&quot;PA&quot;</td><td>&quot;19148&quot;</td><td>&quot;42101&quot;</td><td>&quot;002802&quot;</td><td>&quot;1004&quot;</td><td>&quot;B&quot;</td><td>&quot;42101_2802&quot;</td><td>null</td><td>null</td><td>null</td></tr><tr><td>116348106</td><td>187200</td><td>2014</td><td>187200</td><td>2015</td><td>0</td><td>null</td><td>null</td><td>2015</td><td>187200</td><td>&quot;Market&quot;</td><td>1</td><td>&quot;R&quot;</td><td>2024-01-19</td><td>39.928347</td><td>-75.159963</td><td>&quot;1631 S 9TH ST&quot;</td><td>&quot;PHILADELPHIA&quot;</td><td>&quot;PA&quot;</td><td>&quot;19148&quot;</td><td>&quot;42101&quot;</td><td>&quot;002802&quot;</td><td>&quot;1004&quot;</td><td>&quot;B&quot;</td><td>&quot;42101_2802&quot;</td><td>null</td><td>1829131</td><td>18291.31</td></tr><tr><td>116348105</td><td>191900</td><td>2014</td><td>191900</td><td>2015</td><td>0</td><td>null</td><td>null</td><td>2015</td><td>191900</td><td>&quot;Market&quot;</td><td>1</td><td>&quot;R&quot;</td><td>2024-01-19</td><td>39.928392</td><td>-75.15996</td><td>&quot;1629 S 9TH ST&quot;</td><td>&quot;PHILADELPHIA&quot;</td><td>&quot;PA&quot;</td><td>&quot;19148&quot;</td><td>&quot;42101&quot;</td><td>&quot;002802&quot;</td><td>&quot;1004&quot;</td><td>&quot;B&quot;</td><td>&quot;42101_2802&quot;</td><td>null</td><td>null</td><td>null</td></tr><tr><td>116348055</td><td>15904</td><td>2012</td><td>49700</td><td>2011</td><td>0</td><td>null</td><td>null</td><td>2012</td><td>15904</td><td>&quot;Assd&quot;</td><td>1</td><td>&quot;R&quot;</td><td>2024-01-19</td><td>39.928855</td><td>-75.15863</td><td>&quot;1612 S 8TH ST&quot;</td><td>&quot;PHILADELPHIA&quot;</td><td>&quot;PA&quot;</td><td>&quot;19148&quot;</td><td>&quot;42101&quot;</td><td>&quot;002802&quot;</td><td>&quot;1000&quot;</td><td>&quot;B&quot;</td><td>&quot;42101_2802&quot;</td><td>null</td><td>null</td><td>null</td></tr><tr><td>116348055</td><td>269000</td><td>2014</td><td>269000</td><td>2015</td><td>0</td><td>null</td><td>null</td><td>2015</td><td>269000</td><td>&quot;Market&quot;</td><td>1</td><td>&quot;R&quot;</td><td>2024-01-19</td><td>39.928855</td><td>-75.15863</td><td>&quot;1612 S 8TH ST&quot;</td><td>&quot;PHILADELPHIA&quot;</td><td>&quot;PA&quot;</td><td>&quot;19148&quot;</td><td>&quot;42101&quot;</td><td>&quot;002802&quot;</td><td>&quot;1000&quot;</td><td>&quot;B&quot;</td><td>&quot;42101_2802&quot;</td><td>null</td><td>2628399</td><td>26283.99</td></tr><tr><td>116348048</td><td>8736</td><td>2012</td><td>27300</td><td>2002</td><td>0</td><td>null</td><td>null</td><td>2012</td><td>8736</td><td>&quot;Assd&quot;</td><td>1</td><td>&quot;R&quot;</td><td>2024-01-19</td><td>39.926181</td><td>-75.163055</td><td>&quot;1015 MIFFLIN S…</td><td>&quot;PHILADELPHIA&quot;</td><td>&quot;PA&quot;</td><td>&quot;19148&quot;</td><td>&quot;42101&quot;</td><td>&quot;002802&quot;</td><td>&quot;2012&quot;</td><td>&quot;B&quot;</td><td>&quot;42101_2802&quot;</td><td>null</td><td>null</td><td>null</td></tr></tbody></table></div>"
      ],
      "text/plain": [
       "shape: (10, 28)\n",
       "┌────────────┬────────────┬──────────┬────────────┬───┬────────────┬─────────┬─────────┬───────────┐\n",
       "│ PropertyID ┆ AssdTotalV ┆ AssdYear ┆ MarketTota ┆ … ┆ FIPS_Situs ┆ SaleAmt ┆ TaxAmt  ┆ TaxAmtAdj │\n",
       "│ ---        ┆ alue       ┆ ---      ┆ lValue     ┆   ┆ CensusTrac ┆ ---     ┆ ---     ┆ usted     │\n",
       "│ i64        ┆ ---        ┆ i64      ┆ ---        ┆   ┆ t          ┆ i64     ┆ i64     ┆ ---       │\n",
       "│            ┆ i64        ┆          ┆ i64        ┆   ┆ ---        ┆         ┆         ┆ f64       │\n",
       "│            ┆            ┆          ┆            ┆   ┆ str        ┆         ┆         ┆           │\n",
       "╞════════════╪════════════╪══════════╪════════════╪═══╪════════════╪═════════╪═════════╪═══════════╡\n",
       "│ 116348448  ┆ 0          ┆ 2021     ┆ 178800     ┆ … ┆ 42101_2400 ┆ null    ┆ 250284  ┆ 2502.84   │\n",
       "│ 116348332  ┆ 0          ┆ 2021     ┆ 115800     ┆ … ┆ 42101_2900 ┆ null    ┆ 162097  ┆ 1620.97   │\n",
       "│ 116347966  ┆ 0          ┆ 2021     ┆ 202800     ┆ … ┆ 42101_2802 ┆ null    ┆ 283879  ┆ 2838.79   │\n",
       "│ 116347972  ┆ 0          ┆ 2021     ┆ 187000     ┆ … ┆ 42101_2802 ┆ null    ┆ 261763  ┆ 2617.63   │\n",
       "│ …          ┆ …          ┆ …        ┆ …          ┆ … ┆ …          ┆ …       ┆ …       ┆ …         │\n",
       "│ 116348105  ┆ 191900     ┆ 2014     ┆ 191900     ┆ … ┆ 42101_2802 ┆ null    ┆ null    ┆ null      │\n",
       "│ 116348055  ┆ 15904      ┆ 2012     ┆ 49700      ┆ … ┆ 42101_2802 ┆ null    ┆ null    ┆ null      │\n",
       "│ 116348055  ┆ 269000     ┆ 2014     ┆ 269000     ┆ … ┆ 42101_2802 ┆ null    ┆ 2628399 ┆ 26283.99  │\n",
       "│ 116348048  ┆ 8736       ┆ 2012     ┆ 27300      ┆ … ┆ 42101_2802 ┆ null    ┆ null    ┆ null      │\n",
       "└────────────┴────────────┴──────────┴────────────┴───┴────────────┴─────────┴─────────┴───────────┘"
      ]
     },
     "execution_count": 5,
     "metadata": {},
     "output_type": "execute_result"
    }
   ],
   "source": [
    "merged.head(10)"
   ]
  },
  {
   "cell_type": "code",
   "execution_count": 6,
   "metadata": {},
   "outputs": [
    {
     "data": {
      "text/html": [
       "<div><style>\n",
       ".dataframe > thead > tr > th,\n",
       ".dataframe > tbody > tr > td {\n",
       "  text-align: right;\n",
       "  white-space: pre-wrap;\n",
       "}\n",
       "</style>\n",
       "<small>shape: (175_719, 3)</small><table border=\"1\" class=\"dataframe\"><thead><tr><th>PropertyID</th><th>SaleAmt</th><th>RecordingYear</th></tr><tr><td>i64</td><td>i64</td><td>i64</td></tr></thead><tbody><tr><td>116347959</td><td>305000</td><td>2022</td></tr><tr><td>116347964</td><td>350000</td><td>2018</td></tr><tr><td>116347965</td><td>40000</td><td>2018</td></tr><tr><td>116347965</td><td>485000</td><td>2023</td></tr><tr><td>116347957</td><td>225000</td><td>2021</td></tr><tr><td>116347955</td><td>250000</td><td>2022</td></tr><tr><td>116347955</td><td>235000</td><td>2018</td></tr><tr><td>116347970</td><td>412500</td><td>2022</td></tr><tr><td>116347972</td><td>330000</td><td>2018</td></tr><tr><td>116347978</td><td>280000</td><td>2018</td></tr><tr><td>116347979</td><td>345000</td><td>2022</td></tr><tr><td>116347981</td><td>335000</td><td>2018</td></tr><tr><td>&hellip;</td><td>&hellip;</td><td>&hellip;</td></tr><tr><td>172699439</td><td>1395000</td><td>2023</td></tr><tr><td>172699440</td><td>1695000</td><td>2023</td></tr><tr><td>172699445</td><td>1800000</td><td>2022</td></tr><tr><td>172699520</td><td>995000</td><td>2021</td></tr><tr><td>172699526</td><td>1025000</td><td>2022</td></tr><tr><td>172699529</td><td>1175000</td><td>2023</td></tr><tr><td>172699531</td><td>1050000</td><td>2022</td></tr><tr><td>172699539</td><td>2915289</td><td>2022</td></tr><tr><td>172699146</td><td>280000</td><td>2024</td></tr><tr><td>172698376</td><td>225000</td><td>2023</td></tr><tr><td>172697709</td><td>385000</td><td>2019</td></tr><tr><td>172697145</td><td>415000</td><td>2022</td></tr></tbody></table></div>"
      ],
      "text/plain": [
       "shape: (175_719, 3)\n",
       "┌────────────┬─────────┬───────────────┐\n",
       "│ PropertyID ┆ SaleAmt ┆ RecordingYear │\n",
       "│ ---        ┆ ---     ┆ ---           │\n",
       "│ i64        ┆ i64     ┆ i64           │\n",
       "╞════════════╪═════════╪═══════════════╡\n",
       "│ 116347959  ┆ 305000  ┆ 2022          │\n",
       "│ 116347964  ┆ 350000  ┆ 2018          │\n",
       "│ 116347965  ┆ 40000   ┆ 2018          │\n",
       "│ 116347965  ┆ 485000  ┆ 2023          │\n",
       "│ …          ┆ …       ┆ …             │\n",
       "│ 172699146  ┆ 280000  ┆ 2024          │\n",
       "│ 172698376  ┆ 225000  ┆ 2023          │\n",
       "│ 172697709  ┆ 385000  ┆ 2019          │\n",
       "│ 172697145  ┆ 415000  ┆ 2022          │\n",
       "└────────────┴─────────┴───────────────┘"
      ]
     },
     "execution_count": 6,
     "metadata": {},
     "output_type": "execute_result"
    }
   ],
   "source": [
    "sales.filter(\n",
    "    pl.col(\"RecordingYear\") > 2017\n",
    ")"
   ]
  },
  {
   "cell_type": "code",
   "execution_count": 7,
   "metadata": {},
   "outputs": [
    {
     "data": {
      "text/html": [
       "<div><style>\n",
       ".dataframe > thead > tr > th,\n",
       ".dataframe > tbody > tr > td {\n",
       "  text-align: right;\n",
       "  white-space: pre-wrap;\n",
       "}\n",
       "</style>\n",
       "<small>shape: (150_763, 7)</small><table border=\"1\" class=\"dataframe\"><thead><tr><th>PropertyID</th><th>Year</th><th>Value</th><th>SaleAmt</th><th>TaxAmt</th><th>TaxAmtAdjusted</th><th>ApproxTaxRate</th></tr><tr><td>i64</td><td>i64</td><td>i64</td><td>i64</td><td>i64</td><td>f64</td><td>f64</td></tr></thead><tbody><tr><td>116375325</td><td>2022</td><td>570200</td><td>295000</td><td>798166</td><td>7981.66</td><td>1.3998</td></tr><tr><td>116348295</td><td>2021</td><td>282900</td><td>385000</td><td>345611</td><td>3456.11</td><td>1.221672</td></tr><tr><td>116347981</td><td>2021</td><td>418800</td><td>371000</td><td>523245</td><td>5232.45</td><td>1.249391</td></tr><tr><td>116402418</td><td>2020</td><td>496800</td><td>549000</td><td>695421</td><td>6954.21</td><td>1.399801</td></tr><tr><td>116375282</td><td>2021</td><td>1812100</td><td>1750000</td><td>2536578</td><td>25365.78</td><td>1.3998</td></tr><tr><td>116388338</td><td>2018</td><td>137500</td><td>290000</td><td>192473</td><td>1924.73</td><td>1.399804</td></tr><tr><td>116388339</td><td>2018</td><td>154100</td><td>239000</td><td>173715</td><td>1737.15</td><td>1.127287</td></tr><tr><td>116388304</td><td>2018</td><td>41100</td><td>89000</td><td>57532</td><td>575.32</td><td>1.399805</td></tr><tr><td>116388343</td><td>2018</td><td>49600</td><td>1000</td><td>69430</td><td>694.3</td><td>1.399798</td></tr><tr><td>116388307</td><td>2019</td><td>79300</td><td>155000</td><td>111004</td><td>1110.04</td><td>1.399798</td></tr><tr><td>116388299</td><td>2018</td><td>132600</td><td>216000</td><td>185613</td><td>1856.13</td><td>1.399796</td></tr><tr><td>116388373</td><td>2018</td><td>510000</td><td>600000</td><td>207030</td><td>2070.3</td><td>0.405941</td></tr><tr><td>&hellip;</td><td>&hellip;</td><td>&hellip;</td><td>&hellip;</td><td>&hellip;</td><td>&hellip;</td><td>&hellip;</td></tr><tr><td>116443399</td><td>2023</td><td>109000</td><td>247500</td><td>152578</td><td>1525.78</td><td>1.399798</td></tr><tr><td>116443798</td><td>2023</td><td>175600</td><td>90000</td><td>245805</td><td>2458.05</td><td>1.399801</td></tr><tr><td>116443812</td><td>2023</td><td>150600</td><td>131000</td><td>89027</td><td>890.27</td><td>0.591149</td></tr><tr><td>116443860</td><td>2023</td><td>125900</td><td>250000</td><td>64251</td><td>642.51</td><td>0.510334</td></tr><tr><td>116443887</td><td>2023</td><td>140400</td><td>180000</td><td>84548</td><td>845.48</td><td>0.602194</td></tr><tr><td>116444037</td><td>2023</td><td>133300</td><td>195000</td><td>null</td><td>null</td><td>null</td></tr><tr><td>116444039</td><td>2023</td><td>26300</td><td>76500</td><td>36815</td><td>368.15</td><td>1.39981</td></tr><tr><td>116444052</td><td>2023</td><td>173200</td><td>174000</td><td>242445</td><td>2424.45</td><td>1.399798</td></tr><tr><td>116444046</td><td>2023</td><td>133300</td><td>182000</td><td>74609</td><td>746.09</td><td>0.559707</td></tr><tr><td>116444062</td><td>2023</td><td>164500</td><td>234900</td><td>230267</td><td>2302.67</td><td>1.399799</td></tr><tr><td>116444098</td><td>2023</td><td>170300</td><td>280000</td><td>238386</td><td>2383.86</td><td>1.3998</td></tr><tr><td>116444121</td><td>2023</td><td>162000</td><td>215000</td><td>226768</td><td>2267.68</td><td>1.399802</td></tr></tbody></table></div>"
      ],
      "text/plain": [
       "shape: (150_763, 7)\n",
       "┌────────────┬──────┬────────┬─────────┬────────┬────────────────┬───────────────┐\n",
       "│ PropertyID ┆ Year ┆ Value  ┆ SaleAmt ┆ TaxAmt ┆ TaxAmtAdjusted ┆ ApproxTaxRate │\n",
       "│ ---        ┆ ---  ┆ ---    ┆ ---     ┆ ---    ┆ ---            ┆ ---           │\n",
       "│ i64        ┆ i64  ┆ i64    ┆ i64     ┆ i64    ┆ f64            ┆ f64           │\n",
       "╞════════════╪══════╪════════╪═════════╪════════╪════════════════╪═══════════════╡\n",
       "│ 116375325  ┆ 2022 ┆ 570200 ┆ 295000  ┆ 798166 ┆ 7981.66        ┆ 1.3998        │\n",
       "│ 116348295  ┆ 2021 ┆ 282900 ┆ 385000  ┆ 345611 ┆ 3456.11        ┆ 1.221672      │\n",
       "│ 116347981  ┆ 2021 ┆ 418800 ┆ 371000  ┆ 523245 ┆ 5232.45        ┆ 1.249391      │\n",
       "│ 116402418  ┆ 2020 ┆ 496800 ┆ 549000  ┆ 695421 ┆ 6954.21        ┆ 1.399801      │\n",
       "│ …          ┆ …    ┆ …      ┆ …       ┆ …      ┆ …              ┆ …             │\n",
       "│ 116444046  ┆ 2023 ┆ 133300 ┆ 182000  ┆ 74609  ┆ 746.09         ┆ 0.559707      │\n",
       "│ 116444062  ┆ 2023 ┆ 164500 ┆ 234900  ┆ 230267 ┆ 2302.67        ┆ 1.399799      │\n",
       "│ 116444098  ┆ 2023 ┆ 170300 ┆ 280000  ┆ 238386 ┆ 2383.86        ┆ 1.3998        │\n",
       "│ 116444121  ┆ 2023 ┆ 162000 ┆ 215000  ┆ 226768 ┆ 2267.68        ┆ 1.399802      │\n",
       "└────────────┴──────┴────────┴─────────┴────────┴────────────────┴───────────────┘"
      ]
     },
     "execution_count": 7,
     "metadata": {},
     "output_type": "execute_result"
    }
   ],
   "source": [
    "merged.filter([\n",
    "    pl.col(\"SaleAmt\").is_not_null(),\n",
    "    pl.col(\"Year\") > 2017\n",
    "]).select(\n",
    "    ['PropertyID','Year','Value','SaleAmt', 'TaxAmt', 'TaxAmtAdjusted']\n",
    ").with_columns([\n",
    "    (pl.col('TaxAmt')/pl.col('Value')).alias(\"ApproxTaxRate\")\n",
    "])"
   ]
  }
 ],
 "metadata": {
  "kernelspec": {
   "display_name": "Python 3",
   "language": "python",
   "name": "python3"
  },
  "language_info": {
   "codemirror_mode": {
    "name": "ipython",
    "version": 3
   },
   "file_extension": ".py",
   "mimetype": "text/x-python",
   "name": "python",
   "nbconvert_exporter": "python",
   "pygments_lexer": "ipython3",
   "version": "3.10.8"
  },
  "orig_nbformat": 4
 },
 "nbformat": 4,
 "nbformat_minor": 2
}
