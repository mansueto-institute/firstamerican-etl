{
 "cells": [
  {
   "cell_type": "code",
   "execution_count": 6,
   "metadata": {},
   "outputs": [
    {
     "name": "stdout",
     "output_type": "stream",
     "text": [
      "The autoreload extension is already loaded. To reload it, use:\n",
      "  %reload_ext autoreload\n"
     ]
    },
    {
     "data": {
      "text/plain": [
       "<polars.config.Config at 0x106222020>"
      ]
     },
     "execution_count": 6,
     "metadata": {},
     "output_type": "execute_result"
    }
   ],
   "source": [
    "#set up autoreload\n",
    "%load_ext autoreload\n",
    "%autoreload 2\n",
    "\n",
    "import polars as pl\n",
    "from pathlib import Path\n",
    "\n",
    "import importlib  \n",
    "fa_etl = importlib.import_module(\"fa-etl\")\n",
    "\n",
    "pl.Config(set_fmt_float=\"full\")"
   ]
  },
  {
   "cell_type": "code",
   "execution_count": 35,
   "metadata": {},
   "outputs": [],
   "source": [
    "path_to_dir = \"/Users/claireboyd/internships/mansueto/firstamerican-etl/\"\n",
    "merged = pl.scan_parquet(\n",
    "    path_to_dir+f\"dev/merged.parquet\"\n",
    "    ).with_columns([\n",
    "    pl.when(\n",
    "        pl.col('AssdTotalValue').is_null() | pl.col('MarketTotalValue').is_null() | pl.col('MarketTotalValue') == 0\n",
    "        ).then(None\n",
    "    ).otherwise(\n",
    "        pl.col('AssdTotalValue') / pl.col('MarketTotalValue')\n",
    "    ).alias('sales_ratio')\n",
    "])"
   ]
  },
  {
   "cell_type": "code",
   "execution_count": 36,
   "metadata": {},
   "outputs": [
    {
     "data": {
      "text/plain": [
       "OrderedDict([('PropertyID', Int64),\n",
       "             ('Year', Int64),\n",
       "             ('AssdTotalValue', Int64),\n",
       "             ('MarketTotalValue', Int64),\n",
       "             ('ApprTotalValue', Int64),\n",
       "             ('SitusLatitude', Float64),\n",
       "             ('SitusLongitude', Float64),\n",
       "             ('SitusFullStreetAddress', String),\n",
       "             ('SitusCity', String),\n",
       "             ('SitusState', String),\n",
       "             ('SitusZIP5', String),\n",
       "             ('FIPS', String),\n",
       "             ('SitusCensusTract', String),\n",
       "             ('SitusCensusBlock', String),\n",
       "             ('SaleAmt', Int64),\n",
       "             ('TaxAmt', Int64),\n",
       "             ('TaxAmtAdjusted', Float64),\n",
       "             ('sales_ratio', Float64)])"
      ]
     },
     "execution_count": 36,
     "metadata": {},
     "output_type": "execute_result"
    }
   ],
   "source": [
    "merged.schema"
   ]
  },
  {
   "cell_type": "code",
   "execution_count": 37,
   "metadata": {},
   "outputs": [
    {
     "data": {
      "text/html": [
       "<div><style>\n",
       ".dataframe > thead > tr,\n",
       ".dataframe > tbody > tr {\n",
       "  text-align: right;\n",
       "  white-space: pre-wrap;\n",
       "}\n",
       "</style>\n",
       "<small>shape: (5, 18)</small><table border=\"1\" class=\"dataframe\"><thead><tr><th>PropertyID</th><th>Year</th><th>AssdTotalValue</th><th>MarketTotalValue</th><th>ApprTotalValue</th><th>SitusLatitude</th><th>SitusLongitude</th><th>SitusFullStreetAddress</th><th>SitusCity</th><th>SitusState</th><th>SitusZIP5</th><th>FIPS</th><th>SitusCensusTract</th><th>SitusCensusBlock</th><th>SaleAmt</th><th>TaxAmt</th><th>TaxAmtAdjusted</th><th>sales_ratio</th></tr><tr><td>i64</td><td>i64</td><td>i64</td><td>i64</td><td>i64</td><td>f64</td><td>f64</td><td>str</td><td>str</td><td>str</td><td>str</td><td>str</td><td>str</td><td>str</td><td>i64</td><td>i64</td><td>f64</td><td>f64</td></tr></thead><tbody><tr><td>276</td><td>2018</td><td>17180</td><td>85900</td><td>null</td><td>32.662936</td><td>-86.438723</td><td>&quot;2677 HIGHWAY 143&quot;</td><td>&quot;DEATSVILLE&quot;</td><td>&quot;AL&quot;</td><td>&quot;36022&quot;</td><td>&quot;01001&quot;</td><td>&quot;020901&quot;</td><td>&quot;1036&quot;</td><td>82000</td><td>46386</td><td>463.86</td><td>0.2</td></tr><tr><td>292</td><td>2018</td><td>20700</td><td>206900</td><td>null</td><td>32.577186</td><td>-86.548768</td><td>&quot;695 YOSEMITE PKWY&quot;</td><td>&quot;PRATTVILLE&quot;</td><td>&quot;AL&quot;</td><td>&quot;36067&quot;</td><td>&quot;01001&quot;</td><td>&quot;020902&quot;</td><td>&quot;2040&quot;</td><td>215000</td><td>55890</td><td>558.9</td><td>0.1000483325277912</td></tr><tr><td>165458406</td><td>2023</td><td>28220</td><td>282200</td><td>null</td><td>32.445844</td><td>-86.415837</td><td>&quot;209 HEDGEFIELD DR&quot;</td><td>&quot;PRATTVILLE&quot;</td><td>&quot;AL&quot;</td><td>&quot;36066&quot;</td><td>&quot;01001&quot;</td><td>&quot;020501&quot;</td><td>&quot;1017&quot;</td><td>302500</td><td>87482</td><td>874.82</td><td>0.1</td></tr><tr><td>165458255</td><td>2023</td><td>42180</td><td>210900</td><td>null</td><td>32.449623</td><td>-86.450068</td><td>&quot;582 SUNSET DR&quot;</td><td>&quot;PRATTVILLE&quot;</td><td>&quot;AL&quot;</td><td>&quot;36067&quot;</td><td>&quot;01001&quot;</td><td>&quot;020700&quot;</td><td>&quot;1007&quot;</td><td>230000</td><td>130758</td><td>1307.58</td><td>0.2</td></tr><tr><td>165458247</td><td>2021</td><td>19920</td><td>199200</td><td>null</td><td>32.450092</td><td>-86.449283</td><td>&quot;589 SUNSET DR&quot;</td><td>&quot;PRATTVILLE&quot;</td><td>&quot;AL&quot;</td><td>&quot;36067&quot;</td><td>&quot;01001&quot;</td><td>&quot;020700&quot;</td><td>&quot;1019&quot;</td><td>214900</td><td>57652</td><td>576.52</td><td>0.1</td></tr></tbody></table></div>"
      ],
      "text/plain": [
       "shape: (5, 18)\n",
       "┌────────────┬──────┬─────────────┬─────────────┬───┬─────────┬────────┬─────────────┬─────────────┐\n",
       "│ PropertyID ┆ Year ┆ AssdTotalVa ┆ MarketTotal ┆ … ┆ SaleAmt ┆ TaxAmt ┆ TaxAmtAdjus ┆ sales_ratio │\n",
       "│ ---        ┆ ---  ┆ lue         ┆ Value       ┆   ┆ ---     ┆ ---    ┆ ted         ┆ ---         │\n",
       "│ i64        ┆ i64  ┆ ---         ┆ ---         ┆   ┆ i64     ┆ i64    ┆ ---         ┆ f64         │\n",
       "│            ┆      ┆ i64         ┆ i64         ┆   ┆         ┆        ┆ f64         ┆             │\n",
       "╞════════════╪══════╪═════════════╪═════════════╪═══╪═════════╪════════╪═════════════╪═════════════╡\n",
       "│ 276        ┆ 2018 ┆ 17180       ┆ 85900       ┆ … ┆ 82000   ┆ 46386  ┆ 463.86      ┆ 0.2         │\n",
       "│ 292        ┆ 2018 ┆ 20700       ┆ 206900      ┆ … ┆ 215000  ┆ 55890  ┆ 558.9       ┆ 0.100048332 │\n",
       "│            ┆      ┆             ┆             ┆   ┆         ┆        ┆             ┆ 5277912     │\n",
       "│ 165458406  ┆ 2023 ┆ 28220       ┆ 282200      ┆ … ┆ 302500  ┆ 87482  ┆ 874.82      ┆ 0.1         │\n",
       "│ 165458255  ┆ 2023 ┆ 42180       ┆ 210900      ┆ … ┆ 230000  ┆ 130758 ┆ 1307.58     ┆ 0.2         │\n",
       "│ 165458247  ┆ 2021 ┆ 19920       ┆ 199200      ┆ … ┆ 214900  ┆ 57652  ┆ 576.52      ┆ 0.1         │\n",
       "└────────────┴──────┴─────────────┴─────────────┴───┴─────────┴────────┴─────────────┴─────────────┘"
      ]
     },
     "execution_count": 37,
     "metadata": {},
     "output_type": "execute_result"
    }
   ],
   "source": [
    "merged.head().collect(streaming=True)"
   ]
  },
  {
   "cell_type": "code",
   "execution_count": 59,
   "metadata": {},
   "outputs": [],
   "source": [
    "sales_ratio_summary = merged.filter(\n",
    "    pl.col(\"sales_ratio\").is_not_null()\n",
    ").group_by(\n",
    "    \"FIPS\", \"Year\"\n",
    ").agg(\n",
    "    pl.len().alias('sales_ratio_non_nulls_count'),\n",
    "    # pl.mean('sales_ratio').alias('sales_ratio_mean'),\n",
    "    # pl.median('sales_ratio').alias('sales_ratio_median')\n",
    ").collect(streaming=True)"
   ]
  },
  {
   "cell_type": "code",
   "execution_count": 60,
   "metadata": {},
   "outputs": [
    {
     "data": {
      "text/html": [
       "<div><style>\n",
       ".dataframe > thead > tr,\n",
       ".dataframe > tbody > tr {\n",
       "  text-align: right;\n",
       "  white-space: pre-wrap;\n",
       "}\n",
       "</style>\n",
       "<small>shape: (2_325, 3)</small><table border=\"1\" class=\"dataframe\"><thead><tr><th>FIPS</th><th>Year</th><th>sales_ratio_non_nulls_count</th></tr><tr><td>str</td><td>i64</td><td>u32</td></tr></thead><tbody><tr><td>&quot;01083&quot;</td><td>2020</td><td>3165</td></tr><tr><td>&quot;05065&quot;</td><td>2017</td><td>206</td></tr><tr><td>&quot;12073&quot;</td><td>2016</td><td>6139</td></tr><tr><td>&quot;02275&quot;</td><td>2020</td><td>13</td></tr><tr><td>&quot;05119&quot;</td><td>2019</td><td>8068</td></tr><tr><td>&hellip;</td><td>&hellip;</td><td>&hellip;</td></tr><tr><td>&quot;01111&quot;</td><td>2018</td><td>312</td></tr><tr><td>&quot;05049&quot;</td><td>2017</td><td>205</td></tr><tr><td>&quot;05111&quot;</td><td>2021</td><td>340</td></tr><tr><td>&quot;05019&quot;</td><td>2022</td><td>405</td></tr><tr><td>&quot;05017&quot;</td><td>2019</td><td>142</td></tr></tbody></table></div>"
      ],
      "text/plain": [
       "shape: (2_325, 3)\n",
       "┌───────┬──────┬─────────────────────────────┐\n",
       "│ FIPS  ┆ Year ┆ sales_ratio_non_nulls_count │\n",
       "│ ---   ┆ ---  ┆ ---                         │\n",
       "│ str   ┆ i64  ┆ u32                         │\n",
       "╞═══════╪══════╪═════════════════════════════╡\n",
       "│ 01083 ┆ 2020 ┆ 3165                        │\n",
       "│ 05065 ┆ 2017 ┆ 206                         │\n",
       "│ 12073 ┆ 2016 ┆ 6139                        │\n",
       "│ 02275 ┆ 2020 ┆ 13                          │\n",
       "│ 05119 ┆ 2019 ┆ 8068                        │\n",
       "│ …     ┆ …    ┆ …                           │\n",
       "│ 01111 ┆ 2018 ┆ 312                         │\n",
       "│ 05049 ┆ 2017 ┆ 205                         │\n",
       "│ 05111 ┆ 2021 ┆ 340                         │\n",
       "│ 05019 ┆ 2022 ┆ 405                         │\n",
       "│ 05017 ┆ 2019 ┆ 142                         │\n",
       "└───────┴──────┴─────────────────────────────┘"
      ]
     },
     "execution_count": 60,
     "metadata": {},
     "output_type": "execute_result"
    }
   ],
   "source": [
    "sales_ratio_summary"
   ]
  },
  {
   "cell_type": "code",
   "execution_count": 61,
   "metadata": {},
   "outputs": [],
   "source": [
    "national_summary = merged.group_by(\n",
    "    \"FIPS\", \"Year\"\n",
    ").agg(\n",
    "    pl.count('PropertyID').alias('TotalSales'),\n",
    "    pl.mean('AssdTotalValue').alias('AssdTotalValue_mean'),\n",
    "    pl.median('AssdTotalValue').alias('AssdTotalValue_median'),\n",
    "    pl.mean('sales_ratio').alias('sales_ratio_mean'),\n",
    "    pl.median('sales_ratio').alias('sales_ratio_median')\n",
    ").collect(streaming=True)"
   ]
  },
  {
   "cell_type": "code",
   "execution_count": 68,
   "metadata": {},
   "outputs": [],
   "source": [
    "national_summary.join(\n",
    "    other=sales_ratio_summary,\n",
    "    on=[\"FIPS\", \"Year\"],\n",
    "    how=\"left\"\n",
    ").with_columns([\n",
    "    (pl.col(\"sales_ratio_non_nulls_count\")/pl.col(\"TotalSales\")).alias(\"freq_valid_sales_ratio\")\n",
    "]).write_csv(\"firstamerican_nationalsummary.csv\")"
   ]
  }
 ],
 "metadata": {
  "kernelspec": {
   "display_name": "Python 3",
   "language": "python",
   "name": "python3"
  },
  "language_info": {
   "codemirror_mode": {
    "name": "ipython",
    "version": 3
   },
   "file_extension": ".py",
   "mimetype": "text/x-python",
   "name": "python",
   "nbconvert_exporter": "python",
   "pygments_lexer": "ipython3",
   "version": "3.10.8"
  },
  "orig_nbformat": 4
 },
 "nbformat": 4,
 "nbformat_minor": 2
}
