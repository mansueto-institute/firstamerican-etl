{
 "cells": [
  {
   "cell_type": "code",
   "execution_count": 8,
   "metadata": {},
   "outputs": [
    {
     "name": "stdout",
     "output_type": "stream",
     "text": [
      "The autoreload extension is already loaded. To reload it, use:\n",
      "  %reload_ext autoreload\n"
     ]
    },
    {
     "data": {
      "text/plain": [
       "<polars.config.Config at 0x10a49ffd0>"
      ]
     },
     "execution_count": 8,
     "metadata": {},
     "output_type": "execute_result"
    }
   ],
   "source": [
    "#set up autoreload\n",
    "%load_ext autoreload\n",
    "%autoreload 2\n",
    "\n",
    "import polars as pl\n",
    "from pathlib import Path\n",
    "\n",
    "pl.Config(set_fmt_float=\"full\")"
   ]
  },
  {
   "cell_type": "code",
   "execution_count": 31,
   "metadata": {},
   "outputs": [],
   "source": [
    "path_to_dir = \"/Users/claireboyd/internships/mansueto/firstamerican-etl/\"\n",
    "merged = pl.scan_parquet(\n",
    "    path_to_dir+f\"dev/national/merged.parquet\"\n",
    "    )\n",
    "#     .with_columns([\n",
    "#     pl.when(\n",
    "#         pl.col('AssdTotalValue').is_null() | pl.col('MarketTotalValue').is_null() | pl.col('MarketTotalValue') == 0\n",
    "#         ).then(None\n",
    "#     ).otherwise(\n",
    "#         pl.col('AssdTotalValue') / pl.col('MarketTotalValue')\n",
    "#     ).alias('sales_ratio')\n",
    "# ])"
   ]
  },
  {
   "cell_type": "code",
   "execution_count": 13,
   "metadata": {},
   "outputs": [],
   "source": [
    "# sales_ratio_summary = merged.filter(\n",
    "#     pl.col(\"sales_ratio\").is_not_null()\n",
    "# ).group_by(\n",
    "#     \"FIPS\", \"Year\"\n",
    "# ).agg(\n",
    "#     pl.len().alias('sales_ratio_non_nulls_count'),\n",
    "#     # pl.mean('sales_ratio').alias('sales_ratio_mean'),\n",
    "#     # pl.median('sales_ratio').alias('sales_ratio_median')\n",
    "# ).collect(streaming=True)\n",
    "\n",
    "# sales_ratio_summary"
   ]
  },
  {
   "cell_type": "code",
   "execution_count": 15,
   "metadata": {},
   "outputs": [],
   "source": [
    "# national_summary = merged.group_by(\n",
    "#     \"FIPS\", \"Year\"\n",
    "# ).agg(\n",
    "#     pl.count('PropertyID').alias('TotalSales'),\n",
    "#     pl.mean('AssdTotalValue').alias('AssdTotalValue_mean'),\n",
    "#     pl.median('AssdTotalValue').alias('AssdTotalValue_median'),\n",
    "#     pl.mean('sales_ratio').alias('sales_ratio_mean'),\n",
    "#     pl.median('sales_ratio').alias('sales_ratio_median')\n",
    "# ).collect(streaming=True)"
   ]
  },
  {
   "cell_type": "code",
   "execution_count": 19,
   "metadata": {},
   "outputs": [],
   "source": [
    "# joined_summary = national_summary.join(\n",
    "#     other=sales_ratio_summary,\n",
    "#     on=[\"FIPS\", \"Year\"],\n",
    "#     how=\"left\"\n",
    "# ).with_columns([\n",
    "#     (pl.col(\"sales_ratio_non_nulls_count\")/pl.col(\"TotalSales\")).alias(\"freq_valid_sales_ratio\")\n",
    "# ]).sort(\n",
    "#     [\"FIPS\", \"Year\"], descending=True\n",
    "# )\n",
    "\n",
    "# joined_summary.write_csv(\"firstamerican_nationalsummary.csv\")"
   ]
  },
  {
   "cell_type": "code",
   "execution_count": 32,
   "metadata": {},
   "outputs": [],
   "source": [
    "simple_summary = merged.group_by(\n",
    "    \"FIPS\", \"Year\"\n",
    ").agg(\n",
    "    pl.count('PropertyID').alias('TotalSales')\n",
    ").collect(streaming=True)"
   ]
  },
  {
   "cell_type": "code",
   "execution_count": 42,
   "metadata": {},
   "outputs": [],
   "source": [
    "simple_summary.pivot(\n",
    "    index=\"FIPS\",\n",
    "    columns=\"Year\",\n",
    "    values=\"TotalSales\"\n",
    ").write_csv(\"count_bycounty.csv\")"
   ]
  }
 ],
 "metadata": {
  "kernelspec": {
   "display_name": "Python 3",
   "language": "python",
   "name": "python3"
  },
  "language_info": {
   "codemirror_mode": {
    "name": "ipython",
    "version": 3
   },
   "file_extension": ".py",
   "mimetype": "text/x-python",
   "name": "python",
   "nbconvert_exporter": "python",
   "pygments_lexer": "ipython3",
   "version": "3.10.8"
  },
  "orig_nbformat": 4
 },
 "nbformat": 4,
 "nbformat_minor": 2
}
